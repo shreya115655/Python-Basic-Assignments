{
 "cells": [
  {
   "cell_type": "markdown",
   "id": "c08c3111-2159-4f67-a94e-bbe7647ad66e",
   "metadata": {},
   "source": [
    "Q.1. What are keywords in python? Using the keyword library, print all the python keywords.\n",
    "\n",
    "Ans:\n",
    "Keywords in Python are the reserved words which can not be used as a function name, variable name, or any other identifier.\n"
   ]
  },
  {
   "cell_type": "code",
   "execution_count": 2,
   "id": "6079058e-c46a-49a1-a7b4-feae4da028da",
   "metadata": {},
   "outputs": [
    {
     "name": "stdout",
     "output_type": "stream",
     "text": [
      "['False', 'None', 'True', 'and', 'as', 'assert', 'async', 'await', 'break', 'class', 'continue', 'def', 'del', 'elif', 'else', 'except', 'finally', 'for', 'from', 'global', 'if', 'import', 'in', 'is', 'lambda', 'nonlocal', 'not', 'or', 'pass', 'raise', 'return', 'try', 'while', 'with', 'yield']\n"
     ]
    }
   ],
   "source": [
    "import keyword\n",
    "print(keyword.kwlist)"
   ]
  },
  {
   "cell_type": "markdown",
   "id": "2fb5f804-3c80-4fcf-9fe8-d57a3b091dc0",
   "metadata": {},
   "source": [
    "Q.2. What are the rules to create variables in python?\n",
    "\n",
    "There are certain rules to create a variable name, which are:\n",
    "->A variable name cannot start with a number\n",
    "->A variable name must start with a letter or underscore(_)\n",
    "->Variable names are case sensitive(Name, NAME, nAME are three different variable names)\n",
    "->A variable name will only contain alpha-numeric characters and underscores (A-z, 0-9, and _ )\n",
    "\n",
    "\n",
    "Example:\n",
    "List_1=[1,2,3]\n",
    "List_1 is variable name here."
   ]
  },
  {
   "cell_type": "markdown",
   "id": "d8a2f22f-00da-4fad-a28b-3e695f23bb9d",
   "metadata": {},
   "source": [
    "Q.3. What are the standards and conventions followed for the nomenclature of variables in\n",
    "python to improve code readability and maintainability?\n",
    "\n",
    "-> Variable names should be in lower case\n",
    "-> Words in variable name should be separated by underscore\n",
    "-> Variable name should be started with underscore(_)\n"
   ]
  },
  {
   "cell_type": "markdown",
   "id": "470231e2-a051-4e5f-abe7-ec1c95b4cc4d",
   "metadata": {},
   "source": [
    "Q.4. What will happen if a keyword is used as a variable name?\n",
    "\n",
    "Keywords are reserved so it can not be used as variables\n",
    "Example:\n"
   ]
  },
  {
   "cell_type": "code",
   "execution_count": 5,
   "id": "3a12d4e2-3edb-4caa-995b-dac345b3569b",
   "metadata": {},
   "outputs": [
    {
     "ename": "SyntaxError",
     "evalue": "invalid syntax (4008680257.py, line 1)",
     "output_type": "error",
     "traceback": [
      "\u001b[0;36m  Cell \u001b[0;32mIn [5], line 1\u001b[0;36m\u001b[0m\n\u001b[0;31m    with=10\u001b[0m\n\u001b[0m        ^\u001b[0m\n\u001b[0;31mSyntaxError\u001b[0m\u001b[0;31m:\u001b[0m invalid syntax\n"
     ]
    }
   ],
   "source": [
    "with=10\n",
    "print(with)"
   ]
  },
  {
   "cell_type": "markdown",
   "id": "ffcbde4b-921c-44f6-bf45-f6a151e55d9c",
   "metadata": {},
   "source": [
    "Q.5. For what purpose def keyword is used?\n",
    "\n",
    "def keyword is used to define a function in python.\n",
    "Example:\n"
   ]
  },
  {
   "cell_type": "code",
   "execution_count": 6,
   "id": "36c7cb2e-e5d6-4605-abbc-5fd4b7908e08",
   "metadata": {},
   "outputs": [
    {
     "name": "stdout",
     "output_type": "stream",
     "text": [
      "Hello\n"
     ]
    }
   ],
   "source": [
    "def my_function():\n",
    "    print(\"Hello\")\n",
    "my_function()"
   ]
  },
  {
   "cell_type": "markdown",
   "id": "4192284c-ec50-46fe-9587-f835e0a610d6",
   "metadata": {},
   "source": [
    "Q.6. What is the operation of this special character ‘\\’?\n",
    "\n",
    "Backslash \"\\\" is a special character, it is called the \"escape\" character. It is used in representing certain whitespace characters: \"\\t\" is a tab, \"\\n\" is a newline.\n"
   ]
  },
  {
   "cell_type": "markdown",
   "id": "ffeff22b-5fc8-4d74-bcb3-c444723de309",
   "metadata": {},
   "source": [
    "Q.7. Give an example of the following conditions:\n",
    "(i) Homogeneous list\n",
    "(ii) Heterogeneous set\n",
    "(iii) Homogeneous tuple\n"
   ]
  },
  {
   "cell_type": "code",
   "execution_count": null,
   "id": "9cc9a647-ff17-4cda-b210-6cd481760238",
   "metadata": {},
   "outputs": [],
   "source": [
    "list_1=[1,2,3,4]#Homogeneous list : contains same datatype\n",
    "set_1={1,'Shreya',2,4}#Heterogeneous set: contains different datatypes\n",
    "tuple_1=(1,2,3,4)#Homogeneous tuple: contains same datatype\n"
   ]
  },
  {
   "cell_type": "markdown",
   "id": "04509b5b-bbee-4360-9029-a2b6d5585d8d",
   "metadata": {},
   "source": [
    "Q.8. Explain the mutable and immutable data types with proper explanation & examples\n",
    "\n",
    "Mutable Data types: These datatypes can be changed or modified after creation. Example:List,Dict ,Set\n",
    "Immutable Data types:These datatypes can not be changed or modified after creation. Example:int, float, bool, string, Unicode, and tuple\n"
   ]
  },
  {
   "cell_type": "code",
   "execution_count": 10,
   "id": "9db2b0b2-2e1e-4bba-a968-e262596244c3",
   "metadata": {},
   "outputs": [
    {
     "name": "stdout",
     "output_type": "stream",
     "text": [
      "['red', 'yellow', 'green']\n",
      "['red', 'pink', 'orange']\n"
     ]
    }
   ],
   "source": [
    "shades = [\"red\", \"yellow\", \"green\"]\n",
    "print(shades)\n",
    " \n",
    "shades[1] = \"pink\"\n",
    "shades[2] = \"orange\"\n",
    "print(shades)#lists are mutable so lelments will be added"
   ]
  },
  {
   "cell_type": "code",
   "execution_count": 8,
   "id": "a3b05101-cf73-4340-984a-151b5f7d8586",
   "metadata": {},
   "outputs": [
    {
     "ename": "TypeError",
     "evalue": "'tuple' object does not support item assignment",
     "output_type": "error",
     "traceback": [
      "\u001b[0;31m---------------------------------------------------------------------------\u001b[0m",
      "\u001b[0;31mTypeError\u001b[0m                                 Traceback (most recent call last)",
      "Cell \u001b[0;32mIn [8], line 2\u001b[0m\n\u001b[1;32m      1\u001b[0m tuple1 \u001b[38;5;241m=\u001b[39m (\u001b[38;5;241m0\u001b[39m, \u001b[38;5;241m1\u001b[39m, \u001b[38;5;241m2\u001b[39m, \u001b[38;5;241m3\u001b[39m)\n\u001b[0;32m----> 2\u001b[0m \u001b[43mtuple1\u001b[49m\u001b[43m[\u001b[49m\u001b[38;5;241;43m0\u001b[39;49m\u001b[43m]\u001b[49m \u001b[38;5;241m=\u001b[39m \u001b[38;5;241m4\u001b[39m\n\u001b[1;32m      3\u001b[0m \u001b[38;5;28mprint\u001b[39m(tuple1)\n",
      "\u001b[0;31mTypeError\u001b[0m: 'tuple' object does not support item assignment"
     ]
    }
   ],
   "source": [
    "tuple1 = (0, 1, 2, 3)\n",
    "tuple1[0] = 4\n",
    "print(tuple1) #tuples are immutable so error will be shown"
   ]
  },
  {
   "cell_type": "code",
   "execution_count": 9,
   "id": "fd703e52-2223-4d4c-98a1-e9f3503bd786",
   "metadata": {},
   "outputs": [
    {
     "ename": "TypeError",
     "evalue": "'str' object does not support item assignment",
     "output_type": "error",
     "traceback": [
      "\u001b[0;31m---------------------------------------------------------------------------\u001b[0m",
      "\u001b[0;31mTypeError\u001b[0m                                 Traceback (most recent call last)",
      "Cell \u001b[0;32mIn [9], line 2\u001b[0m\n\u001b[1;32m      1\u001b[0m Name \u001b[38;5;241m=\u001b[39m \u001b[38;5;124m\"\u001b[39m\u001b[38;5;124mMy Name is Shreya\u001b[39m\u001b[38;5;124m\"\u001b[39m\n\u001b[0;32m----> 2\u001b[0m \u001b[43mName\u001b[49m\u001b[43m[\u001b[49m\u001b[38;5;241;43m1\u001b[39;49m\u001b[43m]\u001b[49m \u001b[38;5;241m=\u001b[39m \u001b[38;5;124m'\u001b[39m\u001b[38;5;124mh\u001b[39m\u001b[38;5;124m'\u001b[39m\n\u001b[1;32m      3\u001b[0m \u001b[38;5;28mprint\u001b[39m(Name)\n",
      "\u001b[0;31mTypeError\u001b[0m: 'str' object does not support item assignment"
     ]
    }
   ],
   "source": [
    "Name = \"My Name is Shreya\"\n",
    "Name[1] = 'h'\n",
    "print(Name)#strings are immutable so error will be shown"
   ]
  },
  {
   "cell_type": "code",
   "execution_count": null,
   "id": "80ee0d71-ae61-4d4b-816f-b3b32377743c",
   "metadata": {},
   "outputs": [],
   "source": [
    "Q.9. Write a code to create the given structure using only for loop.\n",
    "\n",
    "    *\n",
    "   ***\n",
    "  *****\n",
    " *******\n",
    "*********"
   ]
  },
  {
   "cell_type": "code",
   "execution_count": 11,
   "id": "1389e069-aee3-446a-b094-49d6e2d7a47e",
   "metadata": {},
   "outputs": [
    {
     "name": "stdout",
     "output_type": "stream",
     "text": [
      "    *\n",
      "   ***\n",
      "  *****\n",
      " *******\n",
      "*********\n"
     ]
    }
   ],
   "source": [
    "n=5\n",
    "for i in range(n):\n",
    "    for j in range(i,n-1):\n",
    "        print(\" \"*len(\"*\"),end=\"\")\n",
    "    for j in range(i+1):\n",
    "        print(\"*\",end=\"\")\n",
    "    for j in range(i):\n",
    "        print(\"*\",end=\"\")\n",
    "    print()"
   ]
  },
  {
   "cell_type": "code",
   "execution_count": null,
   "id": "de1087a6-c23e-4953-adb6-12bbb8a91bdd",
   "metadata": {},
   "outputs": [],
   "source": [
    "Q.10. Write a code to create the given structure using while loop.\n",
    "|||||||||\n",
    " |||||||\n",
    "  |||||\n",
    "   |||\n",
    "    |"
   ]
  },
  {
   "cell_type": "code",
   "execution_count": 12,
   "id": "6168bdbf-2952-4784-b9bd-c9601cdaaf6d",
   "metadata": {},
   "outputs": [
    {
     "name": "stdout",
     "output_type": "stream",
     "text": [
      "|||||||||\n",
      " ||||||| \n",
      "  |||||  \n",
      "   |||   \n",
      "    |    \n"
     ]
    }
   ],
   "source": [
    "n=9\n",
    "i=n\n",
    "while i>0:\n",
    "    print(f\"{i*'|':^{n}}\")\n",
    "    i=i-2"
   ]
  },
  {
   "cell_type": "code",
   "execution_count": null,
   "id": "4c9c6867-6137-4eb5-929e-2842177c15d6",
   "metadata": {},
   "outputs": [],
   "source": []
  }
 ],
 "metadata": {
  "kernelspec": {
   "display_name": "Python 3 (ipykernel)",
   "language": "python",
   "name": "python3"
  },
  "language_info": {
   "codemirror_mode": {
    "name": "ipython",
    "version": 3
   },
   "file_extension": ".py",
   "mimetype": "text/x-python",
   "name": "python",
   "nbconvert_exporter": "python",
   "pygments_lexer": "ipython3",
   "version": "3.10.6"
  }
 },
 "nbformat": 4,
 "nbformat_minor": 5
}
