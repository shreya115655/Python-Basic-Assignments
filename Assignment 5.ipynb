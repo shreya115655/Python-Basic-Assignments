{
 "cells": [
  {
   "cell_type": "markdown",
   "id": "7a18ca19-f8cb-4caf-93c5-89bcc004394b",
   "metadata": {},
   "source": [
    "1. What does an empty dictionary's code look like?\n",
    "Ans:"
   ]
  },
  {
   "cell_type": "code",
   "execution_count": 1,
   "id": "69529acb-d0db-4f40-a235-aaa2e3d6b144",
   "metadata": {},
   "outputs": [
    {
     "data": {
      "text/plain": [
       "dict"
      ]
     },
     "execution_count": 1,
     "metadata": {},
     "output_type": "execute_result"
    }
   ],
   "source": [
    "d1 = {}\n",
    "type(d1)"
   ]
  },
  {
   "cell_type": "markdown",
   "id": "5ab170e7-14c8-4dc5-ad95-eb8d8fed56d9",
   "metadata": {},
   "source": [
    "2. What is the value of a dictionary value with the key 'foo' and the value 42?\n",
    "Ans:"
   ]
  },
  {
   "cell_type": "code",
   "execution_count": 2,
   "id": "7125e95a-56fe-4c8d-8eb9-9fd7bcaa8710",
   "metadata": {},
   "outputs": [
    {
     "name": "stdout",
     "output_type": "stream",
     "text": [
      "{'foo': 42}\n"
     ]
    }
   ],
   "source": [
    "d1={\"foo\":42}\n",
    "print(d1)"
   ]
  },
  {
   "cell_type": "markdown",
   "id": "4386e449-4e57-42bb-80e9-3c3087a29b5d",
   "metadata": {},
   "source": [
    "3. What is the most significant distinction between a dictionary and a list?\n",
    "Ans:\n",
    "List : List is a collection of index values pairs ,list is ordered.\n",
    "Dictionary : Dictionary is a collection of of key and value pairs, Dictionary is unordered.\n",
    "\n",
    "4. What happens if you try to access spam['foo'] if spam is {'bar': 100}?\n"
   ]
  },
  {
   "cell_type": "code",
   "execution_count": 3,
   "id": "3400046c-4c05-40fe-ba24-0ff1763ae8fa",
   "metadata": {},
   "outputs": [
    {
     "ename": "KeyError",
     "evalue": "'foo'",
     "output_type": "error",
     "traceback": [
      "\u001b[0;31m---------------------------------------------------------------------------\u001b[0m",
      "\u001b[0;31mKeyError\u001b[0m                                  Traceback (most recent call last)",
      "Cell \u001b[0;32mIn [3], line 2\u001b[0m\n\u001b[1;32m      1\u001b[0m spam \u001b[38;5;241m=\u001b[39m {\u001b[38;5;124m'\u001b[39m\u001b[38;5;124mbar\u001b[39m\u001b[38;5;124m'\u001b[39m:\u001b[38;5;241m100\u001b[39m}\n\u001b[0;32m----> 2\u001b[0m \u001b[43mspam\u001b[49m\u001b[43m[\u001b[49m\u001b[38;5;124;43m'\u001b[39;49m\u001b[38;5;124;43mfoo\u001b[39;49m\u001b[38;5;124;43m'\u001b[39;49m\u001b[43m]\u001b[49m\n",
      "\u001b[0;31mKeyError\u001b[0m: 'foo'"
     ]
    }
   ],
   "source": [
    "spam = {'bar':100}\n",
    "spam['foo']#keyError detected"
   ]
  },
  {
   "cell_type": "markdown",
   "id": "3b61c2fd-9193-4ec5-9182-78e02a170f9a",
   "metadata": {},
   "source": [
    "5. If a dictionary is stored in spam, what is the difference between the expressions 'cat' in spam and 'cat' in spam.keys()?"
   ]
  },
  {
   "cell_type": "code",
   "execution_count": 4,
   "id": "94f86ece-1e7e-41ec-91da-374997af4ba7",
   "metadata": {},
   "outputs": [
    {
     "data": {
      "text/plain": [
       "True"
      ]
     },
     "execution_count": 4,
     "metadata": {},
     "output_type": "execute_result"
    }
   ],
   "source": [
    "spam ={'cat':100}\n",
    "'cat' in spam"
   ]
  },
  {
   "cell_type": "code",
   "execution_count": 5,
   "id": "0c68660c-4ca9-43a2-ac5a-f99e231c5204",
   "metadata": {},
   "outputs": [
    {
     "data": {
      "text/plain": [
       "True"
      ]
     },
     "execution_count": 5,
     "metadata": {},
     "output_type": "execute_result"
    }
   ],
   "source": [
    "'cat' in spam.keys()"
   ]
  },
  {
   "cell_type": "markdown",
   "id": "3789302b-3523-41ee-9399-a427ff3510f7",
   "metadata": {},
   "source": [
    "both will check if 'cat' is one key of the dictionary and if its a key, it will return True."
   ]
  },
  {
   "cell_type": "markdown",
   "id": "3bbe189d-fafe-42b9-9645-5b84f8488068",
   "metadata": {},
   "source": [
    "6. If a dictionary is stored in spam, what is the difference between the expressions 'cat' in spam and 'cat' in spam.values()?"
   ]
  },
  {
   "cell_type": "code",
   "execution_count": 6,
   "id": "24afa240-adbd-4b6c-a647-72b7c5d47120",
   "metadata": {},
   "outputs": [
    {
     "data": {
      "text/plain": [
       "True"
      ]
     },
     "execution_count": 6,
     "metadata": {},
     "output_type": "execute_result"
    }
   ],
   "source": [
    "spam ={'cat':100}\n",
    "'cat' in spam #'cat' in spam checks whether there is a 'cat' key present in the dictionary"
   ]
  },
  {
   "cell_type": "code",
   "execution_count": 7,
   "id": "06037847-2b3a-4ef0-ad96-17d2ea815db0",
   "metadata": {},
   "outputs": [
    {
     "data": {
      "text/plain": [
       "False"
      ]
     },
     "execution_count": 7,
     "metadata": {},
     "output_type": "execute_result"
    }
   ],
   "source": [
    "spam ={'cat':100}\n",
    "'cat' in spam.values() ##'cat' in spam.values() checks whether there is a value named'cat' for one of the keys in spam dictionary."
   ]
  },
  {
   "cell_type": "markdown",
   "id": "d2cbce10-3f82-4e86-a9c3-9f7e33578e27",
   "metadata": {},
   "source": [
    "7. What is a shortcut for the following code?\n",
    "if 'color' not in spam:\n",
    "spam['color'] = 'black'\n"
   ]
  },
  {
   "cell_type": "code",
   "execution_count": 9,
   "id": "37d8b3e2-4460-4c85-ba44-1ea2dec017c8",
   "metadata": {},
   "outputs": [
    {
     "name": "stdout",
     "output_type": "stream",
     "text": [
      "{'cat': 100, 'color': 'black'}\n"
     ]
    }
   ],
   "source": [
    "if 'color' not in spam:\n",
    "    spam['color'] = 'black'\n",
    "    \n",
    "print(spam)"
   ]
  },
  {
   "cell_type": "code",
   "execution_count": 10,
   "id": "2dc6c070-163e-4e44-bc23-c1526338b154",
   "metadata": {},
   "outputs": [
    {
     "data": {
      "text/plain": [
       "{'cat': 100, 'color': 'black'}"
      ]
     },
     "execution_count": 10,
     "metadata": {},
     "output_type": "execute_result"
    }
   ],
   "source": [
    "#Shortcut by using setdefault\n",
    "\n",
    "spam ={'cat':100}\n",
    "spam.setdefault('color','black')\n",
    "spam\n"
   ]
  },
  {
   "cell_type": "markdown",
   "id": "2393132a-e4b5-454f-bddd-bddbb66354a1",
   "metadata": {},
   "source": [
    "8. How do you \"pretty print\" dictionary values using which module and function?\n",
    "Ans:\n"
   ]
  },
  {
   "cell_type": "code",
   "execution_count": 12,
   "id": "3cac7d8c-b0ff-4f9f-b539-5446ab9ee048",
   "metadata": {},
   "outputs": [
    {
     "name": "stdout",
     "output_type": "stream",
     "text": [
      "[{'Age': '23', 'Country': 'India', 'Name': 'Subh'},\n",
      " {'Age': '44', 'Country': 'China', 'Name': 'Anjali'},\n",
      " {'Age': '29', 'Country': 'UK', 'Name': 'Anand'},\n",
      " {'Age': '35', 'Country': 'USA', 'Name': 'Rani'}]\n"
     ]
    }
   ],
   "source": [
    "import pprint\n",
    "dict = [ {'Name': 'Subh', 'Age': '23', 'Country': 'India'},\n",
    "  {'Name': 'Anjali', 'Age': '44', 'Country': 'China'},\n",
    "  {'Name': 'Anand', 'Age': '29', 'Country': 'UK'},\n",
    "  {'Name': 'Rani', 'Age': '35', 'Country': 'USA'}\n",
    "]\n",
    "#pprint\n",
    "pprint.pprint(dict)"
   ]
  },
  {
   "cell_type": "code",
   "execution_count": 15,
   "id": "bbbbcbab-d365-42ae-8e25-30b6fd19658a",
   "metadata": {},
   "outputs": [
    {
     "name": "stdout",
     "output_type": "stream",
     "text": [
      "[{'Name': 'Subh', 'Age': '23', 'Country': 'India'}, {'Name': 'Anjali', 'Age': '44', 'Country': 'China'}, {'Name': 'Anand', 'Age': '29', 'Country': 'UK'}, {'Name': 'Rani', 'Age': '35', 'Country': 'USA'}]\n"
     ]
    }
   ],
   "source": [
    "#print()\n",
    "print(dict)"
   ]
  },
  {
   "cell_type": "code",
   "execution_count": null,
   "id": "32cde3c6-c48b-4c95-89fa-d484b6a89a68",
   "metadata": {},
   "outputs": [],
   "source": []
  }
 ],
 "metadata": {
  "kernelspec": {
   "display_name": "Python 3 (ipykernel)",
   "language": "python",
   "name": "python3"
  },
  "language_info": {
   "codemirror_mode": {
    "name": "ipython",
    "version": 3
   },
   "file_extension": ".py",
   "mimetype": "text/x-python",
   "name": "python",
   "nbconvert_exporter": "python",
   "pygments_lexer": "ipython3",
   "version": "3.10.6"
  }
 },
 "nbformat": 4,
 "nbformat_minor": 5
}
