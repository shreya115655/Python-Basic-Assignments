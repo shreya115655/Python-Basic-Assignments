{
 "cells": [
  {
   "cell_type": "markdown",
   "id": "cd5ee9e6-08ac-40ea-8504-ed5c5fcff70a",
   "metadata": {},
   "source": [
    "1. In Python, what is the difference between a built-in function and a user-defined function? Provide an example of each.\n",
    "\n",
    "Built-in Function:Built-in functions are functions that are already defined.They are part of the Python standard library and are readily available for use without the need for additional import statements.\n",
    "Example:"
   ]
  },
  {
   "cell_type": "code",
   "execution_count": 2,
   "id": "1dcf016a-88a7-439b-be03-00ccf7ec4248",
   "metadata": {},
   "outputs": [
    {
     "name": "stdout",
     "output_type": "stream",
     "text": [
      "6\n"
     ]
    }
   ],
   "source": [
    "Message=\"Shreya\"\n",
    "length=len(Message)\n",
    "print(length)\n",
    "\n"
   ]
  },
  {
   "cell_type": "markdown",
   "id": "758471ec-f831-4115-a602-dd4fa8bc5216",
   "metadata": {},
   "source": [
    "User-defined Function:\n",
    "User-defined functions are created by the user to perform specific tasks. User-defined functions are defined using the def keyword, followed by a function name, parameter list (if any), and a block of code that defines the function's behavior.\n",
    "Example:"
   ]
  },
  {
   "cell_type": "code",
   "execution_count": 5,
   "id": "eaec9824-47c2-4c7d-b5f5-fd318f640b1e",
   "metadata": {},
   "outputs": [],
   "source": [
    "def sum(a,b):\n",
    "    print(a+b)\n",
    "    "
   ]
  },
  {
   "cell_type": "code",
   "execution_count": 6,
   "id": "6c8db073-5ca7-42d4-92e4-5e405c2b4f6d",
   "metadata": {},
   "outputs": [
    {
     "name": "stdout",
     "output_type": "stream",
     "text": [
      "7\n"
     ]
    }
   ],
   "source": [
    "addition=sum(3,4)\n"
   ]
  },
  {
   "cell_type": "markdown",
   "id": "ca0e6cb7-0f98-46f5-8a90-8150fa47eb0b",
   "metadata": {},
   "source": [
    "2. How can you pass arguments to a function in Python? Explain the difference between positional arguments and keyword arguments.\n",
    "\n",
    "In Python, you can pass arguments to a function while calling it. Arguments are values that you provide to a function to perform a specific task or calculation. Functions can receive arguments in different ways, and there are two main types of arguments: positional arguments and keyword arguments.\n",
    "positional arguments:Positional arguments are passed based on their positions or order when calling the function. The order and number of positional arguments in the function call must match the order and number of parameters in the function definition.\n",
    "Example:"
   ]
  },
  {
   "cell_type": "code",
   "execution_count": 7,
   "id": "8d774aec-0521-46c7-ac14-353e86188ebf",
   "metadata": {},
   "outputs": [],
   "source": [
    "def sum(a,b):\n",
    "    print(a+b)\n",
    "    "
   ]
  },
  {
   "cell_type": "code",
   "execution_count": 8,
   "id": "d3dd74a5-229b-4c11-bd09-615bde243a57",
   "metadata": {},
   "outputs": [
    {
     "name": "stdout",
     "output_type": "stream",
     "text": [
      "7\n"
     ]
    }
   ],
   "source": [
    "addition=sum(3,4)  #here 3 is assigned to a , 4 is assigned to b"
   ]
  },
  {
   "cell_type": "markdown",
   "id": "00dbf9a6-92a1-417d-9d78-d47509393b3a",
   "metadata": {},
   "source": [
    "Keyword Arguments:Keyword arguments are identified by the parameter names when passing values to the function. Instead of relying on the order of the arguments, it specifies which parameter corresponds to which value. T\n",
    "Example:\n"
   ]
  },
  {
   "cell_type": "code",
   "execution_count": 14,
   "id": "de0c48b7-c758-4e50-aa3a-7f745ad4eec5",
   "metadata": {},
   "outputs": [],
   "source": [
    "def address(name, message):\n",
    "    print(f\"Hello, {name}! {message}\")"
   ]
  },
  {
   "cell_type": "code",
   "execution_count": 15,
   "id": "f8f16694-6add-4080-926a-6511b0828a8d",
   "metadata": {},
   "outputs": [
    {
     "name": "stdout",
     "output_type": "stream",
     "text": [
      "Hello, Alice! what's up?\n"
     ]
    }
   ],
   "source": [
    "address1 = address(message=\"what's up?\", name=\"Alice\")  #the values are assigned to their corresponding parameters, regardless of their order."
   ]
  },
  {
   "cell_type": "markdown",
   "id": "a7213c20-6549-4f4e-a049-6bd876888040",
   "metadata": {},
   "source": [
    "3. What is the purpose of the return statement in a function? Can a function have multiple return statements? Explain with an example.\n",
    "\n",
    "The purpose of the return statement in a function is to specify the value or values that the function should produce as output. When a function is called, it executes its code, performs the necessary operations, and then returns the result using the return statement. \n",
    "A function can have multiple return statements. However, as soon as the function encounters a return statement, it immediately exits the function and returns the specified value. This means that any code after the return statement will not be executed.\n",
    "Example:"
   ]
  },
  {
   "cell_type": "code",
   "execution_count": 17,
   "id": "ac626b1a-b05f-4f88-87e3-e36e62676e48",
   "metadata": {},
   "outputs": [
    {
     "name": "stdout",
     "output_type": "stream",
     "text": [
      "The student's grade is: B\n"
     ]
    }
   ],
   "source": [
    "student_percentage = 85\n",
    "def grade(percentage):\n",
    "    if percentage >= 90:\n",
    "        return \"A\"\n",
    "    elif percentage >= 80:\n",
    "        return \"B\"\n",
    "    elif percentage >= 70:\n",
    "        return \"C\"\n",
    "    elif percentage >= 60:\n",
    "        return \"D\"\n",
    "    else:\n",
    "        return \"F\"\n",
    "student_grade = grade(student_percentage)\n",
    "print(f\"The student's grade is: {student_grade}\")\n"
   ]
  },
  {
   "cell_type": "markdown",
   "id": "86add03c-ca2d-4737-927b-5759b8060fe9",
   "metadata": {},
   "source": [
    "4. What are lambda functions in Python? How are they different from regular functions? Provide an example where a lambda function can be useful\n",
    "\n",
    "Lambda functions, also known as anonymous functions, are small, single-line functions in Python that can have any number of arguments but only one expression. They are defined using the lambda keyword, followed by the argument list, a colon :, and the expression to be evaluated. Lambda functions are a way to create simple functions without formally defining them using the def keyword.\n",
    "Key differences between lambda functions and regular functions:\n",
    "\n",
    "Syntax: Lambda functions are defined using a more compact syntax compared to regular functions. They consist of a single expression, making them suitable for simple operations.\n",
    "\n",
    "Function Name: Lambda functions do not have a name, making them anonymous. They are typically used for short-lived tasks or as arguments to higher-order functions.\n",
    "\n",
    "Scope: Lambda functions are limited to a single expression, so they cannot contain multiple statements or complex logic like regular functions."
   ]
  },
  {
   "cell_type": "code",
   "execution_count": 18,
   "id": "bfff8974-93d6-4620-aa48-3a6196c8423d",
   "metadata": {},
   "outputs": [
    {
     "name": "stdout",
     "output_type": "stream",
     "text": [
      "25\n"
     ]
    }
   ],
   "source": [
    "square_lambda = lambda x: x ** 2\n",
    "print(square_lambda(5))"
   ]
  },
  {
   "cell_type": "markdown",
   "id": "fa32ca13-66cf-47bb-81b9-bfdeb6fde445",
   "metadata": {},
   "source": [
    "5. How does the concept of \"scope\" apply to functions in Python? Explain the difference between local scope and global scope.\n",
    "\n",
    "Scope is defined as the region of a program where a particular variable is accessible or visible. So it actually defines the context in which a variable can be referenced and used. Python has two main types of scope: local scope and global scope\n",
    "\n",
    "Local Scope:\n",
    "1.Local scope refers to the scope of variables that are defined within a specific block of code, usually inside a function.\n",
    "Variables with local scope are accessible only within the function or block in which they are defined. They cannot be accessed from outside that function or block.\n",
    "2.Local variables have a limited lifespan and are created when the function is called and destroyed when the function completes its execution.\n",
    "3.When a variable is referenced inside a function, Python first looks for it in the local scope. If the variable is not found in the local scope, it will then search in the enclosing (non-local) scopes."
   ]
  },
  {
   "cell_type": "code",
   "execution_count": 1,
   "id": "50d4bcc4-cc94-4afb-a7f8-cac835d86c7e",
   "metadata": {},
   "outputs": [],
   "source": [
    "def function():\n",
    "    x = 10  # This is a local variable, only accessible within this function\n",
    "    print(x)"
   ]
  },
  {
   "cell_type": "code",
   "execution_count": 2,
   "id": "ee3c3fb4-b249-4581-9b14-f8b7d6ace8e4",
   "metadata": {},
   "outputs": [
    {
     "name": "stdout",
     "output_type": "stream",
     "text": [
      "10\n"
     ]
    }
   ],
   "source": [
    "function()"
   ]
  },
  {
   "cell_type": "markdown",
   "id": "2c094a70-faae-42d4-8c51-ed18ad47ed68",
   "metadata": {},
   "source": [
    "Global Scope:\n",
    "1.Global scope refers to the scope of variables that are defined at the top level of a Python program or module, outside of any function or block.\n",
    "2.Variables with global scope are accessible throughout the entire program, including inside functions.\n",
    "3.Global variables are created when they are defined and persist as long as the program is running.\n",
    "If a variable is referenced inside a function and it is not found in the local scope, Python will look for it in the global scope."
   ]
  },
  {
   "cell_type": "code",
   "execution_count": 3,
   "id": "ae1b0f0e-deaf-4145-a3d2-9db0aab59011",
   "metadata": {},
   "outputs": [
    {
     "name": "stdout",
     "output_type": "stream",
     "text": [
      "5\n"
     ]
    }
   ],
   "source": [
    "global_variable = 5  # This is a global variable\n",
    "\n",
    "def function_global():\n",
    "    print(global_variable)  # Accessing the global variable inside a function\n",
    "\n",
    "function_global()"
   ]
  },
  {
   "cell_type": "markdown",
   "id": "e062b4ff-e395-4567-805c-ef1026d2f166",
   "metadata": {},
   "source": [
    "6. How can you use the \"return\" statement in a Python function to return multiple values?\n",
    "\n",
    "You can use a return statement to return multiple values from a function. To do that, you just need to supply several return values separated by commas.\n",
    "In Python, the return statement in a function is used to send back a value to the caller of the function. While a function can only directly return a single value, you can use various data structures, like tuples or lists, to return multiple values from a function."
   ]
  },
  {
   "cell_type": "code",
   "execution_count": 4,
   "id": "33299f6b-1a21-46de-a028-b9582dcddf97",
   "metadata": {},
   "outputs": [
    {
     "name": "stdout",
     "output_type": "stream",
     "text": [
      "(10, 20, 30)\n"
     ]
    }
   ],
   "source": [
    "def multiple_values_using_tuple():\n",
    "    a = 10\n",
    "    b = 20\n",
    "    c = 30\n",
    "    return a, b, c  # Returning a tuple\n",
    "\n",
    "result_tuple = multiple_values_using_tuple()\n",
    "print(result_tuple)  "
   ]
  },
  {
   "cell_type": "markdown",
   "id": "9803ad48-e429-40eb-8d6c-36f54a68301a",
   "metadata": {},
   "source": [
    "7. What is the difference between the \"pass by value\" and \"pass by reference\" concepts when it comes to function arguments in Python?\n",
    "\n",
    "Pass by Value:\n",
    "In pass by value, a copy of the actual value of the argument is passed to the function. Any modifications made to the parameter within the function do not affect the original value of the argument outside the function.\n",
    "In this approach, the function works with a local copy of the argument, and changes made to that copy have no impact on the original variable.\n",
    "Most primitive data types like integers, floats, booleans, etc., are passed by value."
   ]
  },
  {
   "cell_type": "code",
   "execution_count": 5,
   "id": "708c8e84-8994-4a29-b998-c37fc58cfb23",
   "metadata": {},
   "outputs": [],
   "source": [
    "def modify_value(x):\n",
    "    x = 10  \n",
    "    print(\"Inside function:\", x)"
   ]
  },
  {
   "cell_type": "code",
   "execution_count": 6,
   "id": "8b46c5e0-ff3f-4a63-b037-d5aa575358f3",
   "metadata": {},
   "outputs": [
    {
     "name": "stdout",
     "output_type": "stream",
     "text": [
      "Inside function: 10\n"
     ]
    }
   ],
   "source": [
    "value = 5\n",
    "modify_value(value)  \n"
   ]
  },
  {
   "cell_type": "code",
   "execution_count": 7,
   "id": "43a75a67-e5f4-4c5a-a28c-6cdd0ae28483",
   "metadata": {},
   "outputs": [
    {
     "name": "stdout",
     "output_type": "stream",
     "text": [
      "Outside function: 5\n"
     ]
    }
   ],
   "source": [
    "print(\"Outside function:\", value)"
   ]
  },
  {
   "cell_type": "markdown",
   "id": "275cc6ca-0df8-45c9-89f6-e6125d9c6efe",
   "metadata": {},
   "source": [
    "Pass by Reference (or Pass by Address):\n",
    "In pass by reference, a reference (memory address) to the actual object is passed to the function. This means any changes made to the parameter inside the function will directly affect the original object outside the function.\n",
    "In this approach, the function works directly with the original object, not a copy of it.\n",
    "Most complex data types like lists, dictionaries, and user-defined objects are passed by reference."
   ]
  },
  {
   "cell_type": "code",
   "execution_count": 8,
   "id": "a3e8c9dc-77ad-44fe-b890-5d16ba252b4c",
   "metadata": {},
   "outputs": [
    {
     "name": "stdout",
     "output_type": "stream",
     "text": [
      "[1, 2, 3, 4]\n"
     ]
    }
   ],
   "source": [
    "def modify_list(lst):\n",
    "    lst.append(4)  \n",
    "\n",
    "my_list = [1, 2, 3]\n",
    "modify_list(my_list)\n",
    "print(my_list) "
   ]
  },
  {
   "cell_type": "markdown",
   "id": "90caa64c-02c2-4471-9893-ce98cc61246f",
   "metadata": {},
   "source": [
    "8. Create a function that can intake integer or decimal value and do following operations:\n",
    "a. Logarithmic function (log x)\n",
    "b. Exponential function (exp(x))\n",
    "c. Power function with base 2 (2x)\n",
    "d. Square root"
   ]
  },
  {
   "cell_type": "code",
   "execution_count": 9,
   "id": "43c15f76-3064-49db-9342-32249de350c8",
   "metadata": {},
   "outputs": [],
   "source": [
    "import math\n",
    "\n",
    "def math_operations(x):\n",
    "  \n",
    "    log_value = math.log(x)\n",
    "\n",
    "  \n",
    "    exp_value = math.exp(x)\n",
    "\n",
    " \n",
    "    power_2_value = 2 ** x\n",
    "\n",
    "\n",
    "    sqrt_value = math.sqrt(x)\n",
    "    return log_value, exp_value, power_2_value, sqrt_value"
   ]
  },
  {
   "cell_type": "code",
   "execution_count": 10,
   "id": "c152fcae-5412-421d-b831-8846d2f4e516",
   "metadata": {},
   "outputs": [
    {
     "name": "stdout",
     "output_type": "stream",
     "text": [
      "Logarithmic function (log 5): 1.6094379124341003\n",
      "Exponential function (exp 5): 148.4131591025766\n",
      "Power function with base 2 (2^5): 32\n",
      "Square root of 5: 2.23606797749979\n"
     ]
    }
   ],
   "source": [
    "input_value = 5\n",
    "log_val, exp_val, pow_val, sqrt_val = math_operations(input_value)\n",
    "print(f\"Logarithmic function (log {input_value}): {log_val}\")\n",
    "print(f\"Exponential function (exp {input_value}): {exp_val}\")\n",
    "print(f\"Power function with base 2 (2^{input_value}): {pow_val}\")\n",
    "print(f\"Square root of {input_value}: {sqrt_val}\")"
   ]
  },
  {
   "cell_type": "code",
   "execution_count": 11,
   "id": "d8e09bca-7acb-4fc4-8ef8-58c6a8d5cd29",
   "metadata": {},
   "outputs": [
    {
     "name": "stdout",
     "output_type": "stream",
     "text": [
      "Logarithmic function (log 5.5): 1.7047480922384253\n",
      "Exponential function (exp 5.5): 244.69193226422038\n",
      "Power function with base 2 (2^5.5): 45.254833995939045\n",
      "Square root of 5.5: 2.345207879911715\n"
     ]
    }
   ],
   "source": [
    "input_value = 5.5\n",
    "log_val, exp_val, pow_val, sqrt_val = math_operations(input_value)\n",
    "print(f\"Logarithmic function (log {input_value}): {log_val}\")\n",
    "print(f\"Exponential function (exp {input_value}): {exp_val}\")\n",
    "print(f\"Power function with base 2 (2^{input_value}): {pow_val}\")\n",
    "print(f\"Square root of {input_value}: {sqrt_val}\")"
   ]
  },
  {
   "cell_type": "markdown",
   "id": "c874b9c9-c3fc-4655-93d7-13b3b3840810",
   "metadata": {},
   "source": [
    "9. Create a function that takes a full name as an argument and returns first name and last name."
   ]
  },
  {
   "cell_type": "code",
   "execution_count": 12,
   "id": "4b90f7b3-dd22-482d-919e-826979a13fc2",
   "metadata": {},
   "outputs": [],
   "source": [
    "def get_first_and_last_name(full_name):\n",
    "    # Split the full name into parts using the space as a delimiter\n",
    "    name_parts = full_name.split()\n",
    "\n",
    "    # The first name is the first element in the name_parts list\n",
    "    first_name = name_parts[0]\n",
    "\n",
    "    # The last name is the last element in the name_parts list\n",
    "    last_name = name_parts[-1]\n",
    "\n",
    "    return first_name, last_name"
   ]
  },
  {
   "cell_type": "code",
   "execution_count": 13,
   "id": "7040641a-61b0-48fc-bfa2-10b84526c08a",
   "metadata": {},
   "outputs": [
    {
     "name": "stdout",
     "output_type": "stream",
     "text": [
      "Full Name: Shreya Sengupta\n",
      "First Name: Shreya\n",
      "Last Name: Sengupta\n"
     ]
    }
   ],
   "source": [
    "full_name_1 = \"Shreya Sengupta\"\n",
    "first_name_1, last_name_1 = get_first_and_last_name(full_name_1)\n",
    "print(\"Full Name:\", full_name_1)\n",
    "print(\"First Name:\", first_name_1)\n",
    "print(\"Last Name:\", last_name_1)\n"
   ]
  },
  {
   "cell_type": "code",
   "execution_count": null,
   "id": "8d1b0e61-6e5f-41cb-849e-c53a3f223890",
   "metadata": {},
   "outputs": [],
   "source": []
  }
 ],
 "metadata": {
  "kernelspec": {
   "display_name": "Python 3 (ipykernel)",
   "language": "python",
   "name": "python3"
  },
  "language_info": {
   "codemirror_mode": {
    "name": "ipython",
    "version": 3
   },
   "file_extension": ".py",
   "mimetype": "text/x-python",
   "name": "python",
   "nbconvert_exporter": "python",
   "pygments_lexer": "ipython3",
   "version": "3.10.6"
  }
 },
 "nbformat": 4,
 "nbformat_minor": 5
}
