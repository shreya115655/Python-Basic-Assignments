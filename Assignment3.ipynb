{
 "cells": [
  {
   "cell_type": "markdown",
   "id": "039dfaa3-7f02-47d3-920f-245651b7d5ae",
   "metadata": {},
   "source": [
    "1. Why are functions advantageous to have in your programs?\n",
    "Functions reduce the need of duplicate coding. Function makes programs shorter, easier to read, and easier to update.\n",
    "2. When does the code in a function run: when it's specified or when it's called?\n",
    "when the function is called\n",
    "3. What statement creates a function?\n",
    "The def statement creates a function.\n",
    "4. What is the difference between a function and a function call?\n",
    "def test1(): #function\n",
    "    pass \n",
    "test1() #calling of the function\n",
    "\n",
    "A function consists of the def statement and the whole code in its def clause.\n",
    "\n",
    "A function call is what moves the program execution into the function, and the function call evaluates to the function's return value.\n",
    "5. How many global scopes are there in a Python program? How many local scopes?\n",
    "There's only one global Python scope per program execution. This scope remains in existence until the program terminates , and a local scope is created whenever a function is called.\n",
    "6. What happens to variables in a local scope when the function call returns?\n",
    "When a function returns, the local scope is destroyed.\n",
    "7. What is the concept of a return value? Is it possible to have a return value in an expression?\n",
    "A return value is the value that a function call evaluates to. Like any value, a return value can be used as part of an expression.\n",
    "8. If a function does not have a return statement, what is the return value of a call to that function?\n",
    "If the funtion does not have a return statement it will not return anything.\n",
    "9. How do you make a function variable refer to the global variable?\n",
    "To make function variable as a global variable you can use the global keyword to declare which variables are global.\n",
    "10. What is the data type of None?\n",
    "The data type of None is NoneType.\n",
    "11. What does the sentence import areallyourpetsnamederic do?\n",
    "That import statement imports a module named areallyourpetsnamederic. (But a module of this name doesnt exists in Python)\n",
    "12. If you had a bacon() feature in a spam module, what would you call it after importing spam?\n",
    "import spam\n",
    "spam.bacon()\n",
    "13. What can you do to save a programme from crashing if it encounters an error?\n",
    "We can use try & except clause to save a program from crashing.\n",
    "14. What is the purpose of the try clause? What is the purpose of the except clause?\n",
    "Try and Except clause is used to handle the errors within our code . The try block is used to check some code for errors i.e the code inside the try block will execute when there is no error in the program. Whereas the code inside the except block will execute whenever the program encounters some error in the try block.\n",
    "\n",
    "Eg. \n",
    "try:\n",
    "# Code\n",
    "except:\n",
    "# Executed if error in the\n",
    "# try block\n",
    "\n",
    "\n",
    "\n",
    "\n"
   ]
  }
 ],
 "metadata": {
  "kernelspec": {
   "display_name": "Python 3 (ipykernel)",
   "language": "python",
   "name": "python3"
  },
  "language_info": {
   "codemirror_mode": {
    "name": "ipython",
    "version": 3
   },
   "file_extension": ".py",
   "mimetype": "text/x-python",
   "name": "python",
   "nbconvert_exporter": "python",
   "pygments_lexer": "ipython3",
   "version": "3.10.6"
  }
 },
 "nbformat": 4,
 "nbformat_minor": 5
}
