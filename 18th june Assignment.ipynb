{
 "cells": [
  {
   "cell_type": "markdown",
   "id": "2d5e9b75-ce06-416a-90d1-1d2e6c851e12",
   "metadata": {},
   "source": [
    "1. What is the role of the 'else' block in a try-except statement? Provide an example\n",
    "scenario where it would be useful.\n",
    "\n",
    "The 'else' block in a try-except statement is optional and is executed only if no exceptions are raised in the try block.\n",
    "Its role is to specify a block of code to be executed when the try block succeeds, providing an alternative flow of execution.\n",
    "It is useful when you want to perform additional actions or calculations that should only occur if the try block completes successfully without any exceptions.\n",
    "For example :"
   ]
  },
  {
   "cell_type": "code",
   "execution_count": 2,
   "id": "37efbd25-6eaf-4ffe-a533-62768b9df988",
   "metadata": {},
   "outputs": [
    {
     "name": "stdin",
     "output_type": "stream",
     "text": [
      "Enter the first number:  20\n",
      "Enter the second number:  5\n"
     ]
    },
    {
     "name": "stdout",
     "output_type": "stream",
     "text": [
      "The division result is: 4.0\n"
     ]
    }
   ],
   "source": [
    "try:\n",
    "    num1 = int(input(\"Enter the first number: \"))\n",
    "    num2 = int(input(\"Enter the second number: \"))\n",
    "    result = num1 / num2\n",
    "except ZeroDivisionError:\n",
    "    print(\"Error: Division by zero is not allowed.\")\n",
    "else:\n",
    "    print(\"The division result is:\", result)"
   ]
  },
  {
   "cell_type": "markdown",
   "id": "909183d4-1983-4561-b0a1-b9e233b0d6c4",
   "metadata": {},
   "source": [
    "2. Can a try-except block be nested inside another try-except block? Explain with an\n",
    "example.\n",
    "\n",
    "Yes, nested try-except blocks can be used in Python. This means that you can have a try-except block inside another try block.\n",
    "\n",
    "For example(In this example, if an exception of ExceptionType2 occurs in the inner try block, it will be caught by the inner except block. If an exception of ExceptionType1 occurs in the outer try block or the inner except block, it will be caught by the outer except block)"
   ]
  },
  {
   "cell_type": "code",
   "execution_count": 3,
   "id": "275ba7d2-9b3a-4d08-9a9c-ef73f80e2688",
   "metadata": {},
   "outputs": [
    {
     "name": "stdout",
     "output_type": "stream",
     "text": [
      "outer try block\n",
      "Inner try block\n"
     ]
    }
   ],
   "source": [
    "try:\n",
    "   print(\"outer try block\")\n",
    "   try:\n",
    "       print(\"Inner try block\")\n",
    "   except ZeroDivisionError:\n",
    "       print(\"Inner except block\")\n",
    "except:\n",
    "   print(\"outer except block\")"
   ]
  },
  {
   "cell_type": "markdown",
   "id": "40a54914-5965-462d-8fba-933d5d197834",
   "metadata": {},
   "source": [
    "3. How can you create a custom exception class in Python? Provide an example that\n",
    "demonstrates its usage.\n",
    "\n",
    "In Python, we can create a custom exception class by defining a new class that inherits from the base 'Exception' class or any of its subclasses. Below is an example of creating and using a custom exception class:\n",
    "\n",
    "class CustomException(Exception):\n",
    "    pass\n",
    "\n",
    "try:\n",
    "    raise CustomException(\"This is a custom exception.\")\n",
    "except CustomException as e:\n",
    "    print(\"Custom exception caught:\", e)\n",
    "In this example, we define a new class called 'CustomException' that inherits from the base 'Exception' class. We then raise an instance of this custom exception with a custom error message. The exception is caught in the 'except'block, and we print the exception message."
   ]
  },
  {
   "cell_type": "code",
   "execution_count": 4,
   "id": "f1d43376-de82-4ff5-92b9-14f5aa9cbe21",
   "metadata": {},
   "outputs": [
    {
     "name": "stdout",
     "output_type": "stream",
     "text": [
      "My created exception\n",
      "Custom exception caught: This is a custom exception.\n"
     ]
    }
   ],
   "source": [
    "class CustomException(Exception):\n",
    "    print(\"My created exception\")\n",
    "\n",
    "try:\n",
    "    raise CustomException(\"This is a custom exception.\")\n",
    "except CustomException as e:\n",
    "    print(\"Custom exception caught:\", e)"
   ]
  },
  {
   "cell_type": "markdown",
   "id": "2fd727b5-5a13-4b8a-b40c-18ba0fbdf117",
   "metadata": {},
   "source": [
    "4. What are some common exceptions that are built-in to Python?\n",
    "\n",
    "Python provides several built-in exceptions that cover common error scenarios. Some common built-in exceptions include:\n",
    "\n",
    "'ZeroDivisionError': Raised when division or modulo operation is performed with zero as the divisor.\n",
    "'ValueError': Raised when a function receives an argument of the correct type but with an invalid value.\n",
    "'TypeError': Raised when an operation or function is applied to an object of an inappropriate type.\n",
    "'IndexError': Raised when an index is out of range for a sequence (e.g., list, tuple, string).\n",
    "'FileNotFoundError': Raised when a file or directory is requested but cannot be found.\n",
    "'KeyError': Raised when a dictionary key is not found.\n",
    "'NameError': Raised when a local or global name is not found.\n",
    "'IOError': Raised when an I/O operation (e.g., reading or writing to a file) fails."
   ]
  },
  {
   "cell_type": "markdown",
   "id": "ac3a4049-7b21-4a42-8a6e-49815f2a245d",
   "metadata": {},
   "source": [
    "5. What is logging in Python, and why is it important in software development?\n",
    "\n",
    "Logging in Python is a mechanism that allows developers to record events, messages, and errors that occur during the execution of a program.\n",
    "It provides a way to collect and store valuable information about the program's behavior, making it easier to debug issues, monitor application performance, and analyze runtime behavior.\n",
    "Logging is important in software development because it offers a more structured and flexible approach compared to using print statements for debugging.\n",
    "It allows you to control the level of detail and destination of log messages, making it suitable for different environments and scenarios."
   ]
  },
  {
   "cell_type": "markdown",
   "id": "f02a3ce5-d610-45fd-9ef7-9cb0f320fd49",
   "metadata": {},
   "source": [
    "6. Explain the purpose of log levels in Python logging and provide examples of when\n",
    "each log level would be appropriate.\n",
    "\n",
    "Log levels in Python logging define the severity or importance of a log message. There are several log levels available, including:\n",
    "\n",
    "'DEBUG': Detailed information, typically useful for debugging purposes.\n",
    "'INFO': General information about the program's execution.\n",
    "'WARNING': Indicates a potential issue or warning that does not prevent the program from running.\n",
    "'ERROR': Indicates a more severe error or problem that affects the program's functionality.\n",
    "'CRITICAL': Indicates a critical error or failure that may cause the program to terminate.\n",
    "The purpose of log levels is to provide a way to filter and prioritize log messages based on their severity. Developers can set the desired log level, and only log messages with an equal or higher level will be recorded. For example:\n",
    "\n",
    "import logging\n",
    "\n",
    "# Set the log level to INFO\n",
    "logging.basicConfig(level=logging.INFO)\n",
    "\n",
    "# Log messages\n",
    "logging.debug(\"This is a debug message\")\n",
    "logging.info(\"This is an info message\")\n",
    "logging.warning(\"This is a warning message\")\n",
    "logging.error(\"This is an error message\")\n",
    "logging.critical(\"This is a critical message\")\n",
    "\n",
    "In this example, since the log level is set to INFO, only log messages with an equal or higher level (INFO, WARNING, ERROR, CRITICAL) will be recorded. DEBUG messages will be ignored."
   ]
  },
  {
   "cell_type": "markdown",
   "id": "648076f3-e1fb-491e-b285-8ce4aae8a03b",
   "metadata": {},
   "source": [
    "7. What are log formatters in Python logging, and how can you customise the log\n",
    "message format using formatters?\n",
    "\n",
    "Log formatters in Python logging define the format of log messages when they are recorded. They allow customization of the log message structure, including the timestamp, log level, module name, and the actual log message content. By default, the logging module uses a basic formatter that includes the log level and the log message. However, we can customize the log message format using formatters.\n",
    "\n",
    "Here's an example:\n",
    "\n",
    "import logging\n",
    "\n",
    "# Create a formatter\n",
    "formatter = logging.Formatter(\"%(asctime)s - %(levelname)s - %(message)s\")\n",
    "\n",
    "# Create a handler and set the formatter\n",
    "handler = logging.StreamHandler()\n",
    "handler.setFormatter(formatter)\n",
    "\n",
    "# Create a logger and add the handler\n",
    "logger = logging.getLogger()\n",
    "logger.addHandler(handler)\n",
    "\n",
    "# Log a message\n",
    "logger.info(\"This is a custom log message\")\n",
    "In this example, we create a formatter using the logging.Formatter class and specify the desired log message format. Then, we create a handler (in this case, a StreamHandler that sends log messages to the console) and set the formatter on the handler. Finally, we create a logger, add the handler to it, and log a message using the customized log message format."
   ]
  },
  {
   "cell_type": "code",
   "execution_count": 5,
   "id": "7e52bed2-7c8d-45f6-8a58-b1ee2bc7ddb4",
   "metadata": {},
   "outputs": [],
   "source": [
    "import logging\n",
    "\n",
    "# Create a formatter\n",
    "formatter = logging.Formatter(\"%(asctime)s - %(levelname)s - %(message)s\")\n",
    "\n",
    "# Create a handler and set the formatter\n",
    "handler = logging.StreamHandler()\n",
    "handler.setFormatter(formatter)\n",
    "\n",
    "# Create a logger and add the handler\n",
    "logger = logging.getLogger()\n",
    "logger.addHandler(handler)\n",
    "\n",
    "# Log a message\n",
    "logger.info(\"This is a custom log message\")"
   ]
  },
  {
   "cell_type": "markdown",
   "id": "c4f2288d-e8ef-4bab-8326-e1e87a13d4f0",
   "metadata": {},
   "source": [
    "8. How can you set up logging to capture log messages from multiple modules or\n",
    "classes in a Python application?\n",
    "\n",
    "o capture log messages from multiple modules or classes in a Python application, we can configure a logger with a file handler that writes log messages to a specific log file.\n",
    "\n",
    "Here's an example:\n",
    "\n",
    "import logging\n",
    "\n",
    "# Configure logger\n",
    "logger = logging.getLogger()\n",
    "logger.setLevel(logging.INFO)\n",
    "\n",
    "# Create a file handler\n",
    "file_handler = logging.FileHandler(\"app.log\")\n",
    "\n",
    "# Create a formatter and set it on the file handler\n",
    "formatter = logging.Formatter(\"%(asctime)s - %(levelname)s - %(message)s\")\n",
    "file_handler.setFormatter(formatter)\n",
    "\n",
    "# Add the file handler to the logger\n",
    "logger.addHandler(file_handler)\n",
    "\n",
    "# Log messages\n",
    "logger.info(\"Log message from module A\")\n",
    "logger.info(\"Log message from module B\")\n",
    "\n",
    "In this example, we configure the logger to log messages with an INFO level or above. We create a FileHandler and specify the log file name as \"app.log\". Then, we create a formatter and set it on the file handler. Finally, we add the file handler to the logger. Now, any log messages with an INFO level or above will be recorded in the \"app.log\" file."
   ]
  },
  {
   "cell_type": "code",
   "execution_count": 6,
   "id": "b7b5fc7d-81ff-461a-b79f-6f6699a1a88e",
   "metadata": {},
   "outputs": [
    {
     "name": "stderr",
     "output_type": "stream",
     "text": [
      "2023-07-29 12:04:15,366 - INFO - Log message from module A\n",
      "2023-07-29 12:04:15,368 - INFO - Log message from module B\n"
     ]
    }
   ],
   "source": [
    "import logging\n",
    "\n",
    "# Configure logger\n",
    "logger = logging.getLogger()\n",
    "logger.setLevel(logging.INFO)\n",
    "\n",
    "# Create a file handler\n",
    "file_handler = logging.FileHandler(\"app.log\")\n",
    "\n",
    "# Create a formatter and set it on the file handler\n",
    "formatter = logging.Formatter(\"%(asctime)s - %(levelname)s - %(message)s\")\n",
    "file_handler.setFormatter(formatter)\n",
    "\n",
    "# Add the file handler to the logger\n",
    "logger.addHandler(file_handler)\n",
    "\n",
    "# Log messages\n",
    "logger.info(\"Log message from module A\")\n",
    "logger.info(\"Log message from module B\")\n",
    "     "
   ]
  },
  {
   "cell_type": "markdown",
   "id": "29204dae-6bc6-4ee5-93e2-40dcc6a6b1fa",
   "metadata": {},
   "source": [
    "9. What is the difference between the logging and print statements in Python? When\n",
    "should you use logging over print statements in a real-world application?\n",
    "\n",
    "The main difference between logging and print statements in Python is their purpose and flexibility.\n",
    "Logging is designed specifically for recording events, messages, and errors during the execution of a program, while print statements are primarily used for outputting data or debugging information during development.\n",
    "Listed are some situations where logging is preferred over print statements in a real-world application:\n",
    "\n",
    "In production environments, print statements may clutter the output or interfere with the application's normal functioning.\n",
    "Logging provides a structured and controlled way to capture relevant information without affecting the program's output.\n",
    "With logging, we can control the level of detail recorded based on the severity of the message. This allows us to fine-tune the information logged, making it easier to identify and analyze issues.\n",
    "Logging provides a centralized mechanism for collecting and storing log messages, which can be essential for troubleshooting and post-mortem analysis.\n",
    "Log messages can be directed to different destinations (e.g., console, file, remote server) and can be easily configured or disabled without modifying the code.\n",
    "The logging module offers powerful features such as log levels, handlers, filters, and formatters, which allow you to customize and control the behavior of log messages based on specific requirements."
   ]
  },
  {
   "cell_type": "markdown",
   "id": "5e25ea57-40de-4c93-8818-a051ce011ad5",
   "metadata": {},
   "source": [
    "10. Write a Python program that logs a message to a file named \"app.log\" with the\n",
    "following requirements:\n",
    "● The log message should be \"Hello, World!\"\n",
    "● The log level should be set to \"INFO.\"\n",
    "● The log file should append new log entries without overwriting previous ones."
   ]
  },
  {
   "cell_type": "code",
   "execution_count": 7,
   "id": "82795f13-c8d9-42a0-927d-83e23fa34cb2",
   "metadata": {},
   "outputs": [
    {
     "name": "stderr",
     "output_type": "stream",
     "text": [
      "2023-07-29 12:05:22,773 - INFO - Hello, World!\n"
     ]
    }
   ],
   "source": [
    "import logging\n",
    "\n",
    "# Configure logger\n",
    "logger = logging.getLogger()\n",
    "logger.setLevel(logging.INFO)\n",
    "\n",
    "# Create a file handler\n",
    "file_handler = logging.FileHandler(\"app.log\")\n",
    "file_handler.setLevel(logging.INFO)\n",
    "\n",
    "# Create a formatter and set it on the file handler\n",
    "formatter = logging.Formatter(\"%(asctime)s - %(levelname)s - %(message)s\")\n",
    "file_handler.setFormatter(formatter)\n",
    "\n",
    "# Add the file handler to the logger\n",
    "logger.addHandler(file_handler)\n",
    "\n",
    "# Log the message\n",
    "logger.info(\"Hello, World!\")\n"
   ]
  },
  {
   "cell_type": "markdown",
   "id": "a3cba3c9-aa36-465f-b1c4-bcfd3ceeb1d3",
   "metadata": {},
   "source": [
    "In this code, we configure the logger to log messages with an INFO level or above.\n",
    "Then, we create a file handler and specify the log file name as \"app.log\". We set the log level of the file handler to INFO to ensure it captures the log message.\n",
    "Next, we create a formatter and set it on the file handler.\n",
    "Finally, we add the file handler to the logger. When the program runs, it logs the message \"Hello, World!\" to the \"app.log\" file."
   ]
  },
  {
   "cell_type": "markdown",
   "id": "9ad94170-afe2-43f1-9d83-69182c078260",
   "metadata": {},
   "source": [
    "11. Create a Python program that logs an error message to the console and a file named\n",
    "\"errors.log\" if an exception occurs during the program's execution. The error\n",
    "message should include the exception type and a timestamp.\n"
   ]
  },
  {
   "cell_type": "code",
   "execution_count": 8,
   "id": "46ae70b9-b742-4535-b266-ff0d9d5c3aec",
   "metadata": {},
   "outputs": [
    {
     "name": "stderr",
     "output_type": "stream",
     "text": [
      "2023-07-29 12:06:08,950 - ERROR - Exception occurred at 2023-07-29 12:06:08: ValueError\n",
      "Traceback (most recent call last):\n",
      "  File \"/tmp/ipykernel_1639/2997696257.py\", line 29, in <module>\n",
      "    raise ValueError(\"This is a sample error.\")\n",
      "ValueError: This is a sample error.\n",
      "\n",
      "2023-07-29 12:06:08,950 - ERROR - Exception occurred at 2023-07-29 12:06:08: ValueError\n",
      "Traceback (most recent call last):\n",
      "  File \"/tmp/ipykernel_1639/2997696257.py\", line 29, in <module>\n",
      "    raise ValueError(\"This is a sample error.\")\n",
      "ValueError: This is a sample error.\n",
      "\n"
     ]
    }
   ],
   "source": [
    "import logging\n",
    "import traceback\n",
    "from datetime import datetime\n",
    "\n",
    "# Configure logger\n",
    "logger = logging.getLogger()\n",
    "logger.setLevel(logging.ERROR)\n",
    "\n",
    "# Create a console handler\n",
    "console_handler = logging.StreamHandler()\n",
    "console_handler.setLevel(logging.ERROR)\n",
    "\n",
    "# Create a file handler\n",
    "file_handler = logging.FileHandler(\"errors.log\")\n",
    "file_handler.setLevel(logging.ERROR)\n",
    "\n",
    "# Create a formatter and set it on the handlers\n",
    "formatter = logging.Formatter(\"%(asctime)s - %(levelname)s - %(message)s\")\n",
    "console_handler.setFormatter(formatter)\n",
    "file_handler.setFormatter(formatter)\n",
    "\n",
    "# Add the handlers to the logger\n",
    "logger.addHandler(console_handler)\n",
    "logger.addHandler(file_handler)\n",
    "\n",
    "try:\n",
    "    # Code that may raise an exception\n",
    "    # ...\n",
    "    raise ValueError(\"This is a sample error.\")\n",
    "except Exception as e:\n",
    "    # Log the exception with traceback\n",
    "    exception_type = type(e).__name__\n",
    "    timestamp = datetime.now().strftime(\"%Y-%m-%d %H:%M:%S\")\n",
    "    logger.error(f\"Exception occurred at {timestamp}: {exception_type}\\n{traceback.format_exc()}\")"
   ]
  },
  {
   "cell_type": "markdown",
   "id": "977d6b60-e604-49f8-a69c-746ad4b08c32",
   "metadata": {},
   "source": [
    "In this code, we configure the logger to capture ERROR level messages. We create a console handler and a file handler, both set to the ERROR level. Then, we create a formatter and set it on both handlers. Finally, we add the handlers to the logger.\n",
    "\n",
    "Inside the try-except block, we raise a ValueError as an example of an exception occurring. If any exception occurs, we log the exception message, type, and traceback using the logger's error method. The log message includes the current timestamp, exception type, and the formatted traceback.\n",
    "\n",
    "This program will log the error message to both the console and the \"errors.log\" file, providing a record of the exception and traceback information for further analysis."
   ]
  }
 ],
 "metadata": {
  "kernelspec": {
   "display_name": "Python 3 (ipykernel)",
   "language": "python",
   "name": "python3"
  },
  "language_info": {
   "codemirror_mode": {
    "name": "ipython",
    "version": 3
   },
   "file_extension": ".py",
   "mimetype": "text/x-python",
   "name": "python",
   "nbconvert_exporter": "python",
   "pygments_lexer": "ipython3",
   "version": "3.10.6"
  }
 },
 "nbformat": 4,
 "nbformat_minor": 5
}
