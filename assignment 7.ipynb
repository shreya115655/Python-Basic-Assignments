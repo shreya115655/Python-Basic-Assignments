{
 "cells": [
  {
   "cell_type": "markdown",
   "id": "5ab7ac6e-8229-42c9-956a-7215ef761571",
   "metadata": {},
   "source": [
    "Q.1. Create two int type variables, apply addition, subtraction, division and multiplications\n",
    "and store the results in variables. Then print the data in the following format by calling the\n",
    "variables:\n",
    "First variable is __ & second variable is __.\n",
    "Addition: __ + __ = __\n",
    "Subtraction: __ - __ = __\n",
    "Multiplication: __ * __ = __\n",
    "Division: __ / __ = __"
   ]
  },
  {
   "cell_type": "code",
   "execution_count": 21,
   "id": "2367a3f0-43a4-484d-9690-0eff1f7e1c13",
   "metadata": {},
   "outputs": [
    {
     "name": "stdout",
     "output_type": "stream",
     "text": [
      "First variable is 6 & second variable is 2\n",
      "addition: 6 + 2 = 8\n",
      "Subtraction: 6 - 2 = 4\n",
      "Multiplication: 6 * 2 = 12\n",
      "Division: 6 / 2 = 3\n"
     ]
    }
   ],
   "source": [
    "def addition(a,b):\n",
    "    print(\"First variable is\",a,\"& second variable is\",b)\n",
    "    c=int(a)+int(b)\n",
    "    print(\"addition:\",a,\"+\",b,\"=\",c)\n",
    "        \n",
    "addition(6,2)\n",
    "def subtraction(a,b):\n",
    "    \n",
    "    c=int(a)-int(b)\n",
    "    print(\"Subtraction:\",a,\"-\",b,\"=\",c)\n",
    "        \n",
    "subtraction(6,2)\n",
    "def multiplication(a,b):\n",
    "    \n",
    "    c=int(a)*int(b)\n",
    "    print(\"Multiplication:\",a,\"*\",b,\"=\",c)\n",
    "        \n",
    "multiplication(6,2)\n",
    "def division(a,b):\n",
    "    \n",
    "    c=int(a)//int(b)\n",
    "    print(\"Division:\",a,\"/\",b,\"=\",c)\n",
    "        \n",
    "division(6,2)\n"
   ]
  },
  {
   "cell_type": "markdown",
   "id": "3f94034b-b116-4757-b158-a118faaad2e7",
   "metadata": {},
   "source": [
    "Q.2. What is the difference between the following operators:\n",
    "(i) ‘/’ & ‘//’\n",
    "(ii) ‘**’ & ‘^’\n",
    "\n",
    "(i)The first one is Float Division(\"/\") and the second is Integer Division(\"//\") or Floor Division.\n",
    "(ii)The first one is Exponentiation(\"**\") and the second is Bitwise XOR('^')"
   ]
  },
  {
   "cell_type": "markdown",
   "id": "691c8362-a51b-4321-bb1d-4f6924c1cf1d",
   "metadata": {},
   "source": [
    "Q.3. List the logical operators.\n",
    "\n",
    "1. and: Logical AND is True if both the operands are true\n",
    "2. or: Logical OR is True if either of the operands is true\n",
    "3. not: Logical NOT is True if operand is false"
   ]
  },
  {
   "cell_type": "markdown",
   "id": "89f92ab1-4965-4335-a496-fa26da02f12f",
   "metadata": {},
   "source": [
    "Q.4. Explain right shift operator and left shift operator with examples.\n",
    "\n",
    "Bitwise right shift: Shifts the bits of the number to the right and fills 0 on voids left( fills 1 in the case of a negative number) as a result. Similar effect as of dividing the number with some power of two.\n",
    "\n",
    "a = 10 = 0000 1010 (Binary)\n",
    "a >> 1 = 0000 0101 = 5\n",
    "\n",
    "Bitwise left shift: Shifts the bits of the number to the left and fills 0 on voids right as a result. Similar effect as of multiplying the number with some power of two.\n",
    "\n",
    "Example 1:\n",
    "a = 5 = 0000 0101 (Binary)\n",
    "a << 1 = 0000 1010 = 10\n",
    "a << 2 = 0001 0100 = 20"
   ]
  },
  {
   "cell_type": "markdown",
   "id": "6ab5f5c6-a125-4d0e-b453-89b618c7e843",
   "metadata": {},
   "source": [
    "Q.5. Create a list containing int type data of length 15. Then write a code to check if 10 is\n",
    "present in the list or not."
   ]
  },
  {
   "cell_type": "code",
   "execution_count": 22,
   "id": "c1f6c5bb-e958-4ad8-9b59-24c229ef3e3f",
   "metadata": {},
   "outputs": [],
   "source": [
    "list1=[1,2,3,4,5,6,7,8,9,10,11,12,13,14,15]"
   ]
  },
  {
   "cell_type": "code",
   "execution_count": 23,
   "id": "38b5f1e4-6459-4210-9f1b-10dab1cf5055",
   "metadata": {},
   "outputs": [
    {
     "data": {
      "text/plain": [
       "15"
      ]
     },
     "execution_count": 23,
     "metadata": {},
     "output_type": "execute_result"
    }
   ],
   "source": [
    "len(list1)"
   ]
  },
  {
   "cell_type": "code",
   "execution_count": 28,
   "id": "773bb21d-7108-4e08-b468-ecd11049dcd4",
   "metadata": {},
   "outputs": [
    {
     "name": "stdout",
     "output_type": "stream",
     "text": [
      "exists\n"
     ]
    }
   ],
   "source": [
    "i=10\n",
    "if i in list1:\n",
    "    print(\"exists\")\n",
    "else:\n",
    "    print(\"doesn't exist\")"
   ]
  },
  {
   "cell_type": "code",
   "execution_count": null,
   "id": "1b150b51-b9d3-463f-b8ff-d4cb721da69d",
   "metadata": {},
   "outputs": [],
   "source": []
  }
 ],
 "metadata": {
  "kernelspec": {
   "display_name": "Python 3 (ipykernel)",
   "language": "python",
   "name": "python3"
  },
  "language_info": {
   "codemirror_mode": {
    "name": "ipython",
    "version": 3
   },
   "file_extension": ".py",
   "mimetype": "text/x-python",
   "name": "python",
   "nbconvert_exporter": "python",
   "pygments_lexer": "ipython3",
   "version": "3.10.6"
  }
 },
 "nbformat": 4,
 "nbformat_minor": 5
}
