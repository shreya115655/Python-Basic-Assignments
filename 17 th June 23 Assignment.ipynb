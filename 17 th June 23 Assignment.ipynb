{
 "cells": [
  {
   "cell_type": "markdown",
   "id": "2f2ed1af-578d-411b-83e4-285572031b8e",
   "metadata": {},
   "source": [
    "1. What is the role of try and exception block?\n",
    "\n",
    "The try-except block is used in Python for exception handling.\n",
    "It allows us to catch and handle exceptions that occur during the execution of our code.\n",
    "When an exception occurs inside a try block, it is caught by an except block, which specifies how to handle the exception."
   ]
  },
  {
   "cell_type": "markdown",
   "id": "9685b379-3976-4de3-8332-1c8aeea82bb7",
   "metadata": {},
   "source": [
    "2. What is the syntax for a basic try-except block?\n",
    "\n",
    "The basic syntax of try and excep block is\n",
    "\n",
    "try:\n",
    "    # Code that may raise an exception\n",
    "    # ...\n",
    "except ExceptionType:\n",
    "    # Code to handle the exception\n",
    "    # ...\n",
    "The try block contains the code that may potentially raise an exception. If an exception of the specified ExceptionType occurs within the try block, it is caught by the except block, which contains the code to handle the exception."
   ]
  },
  {
   "cell_type": "markdown",
   "id": "acb1986e-8d10-4615-8ead-aa874d53778c",
   "metadata": {},
   "source": [
    "3. What happens if an exception occurs inside a try block and there is no matching except block?\n",
    "\n",
    "If an exception occurs inside a try block and there is no matching except block to handle that exception, the program will terminate and an error message will be displayed, indicating the unhandled exception. This can cause the program to crash and potentially leave any resources open."
   ]
  },
  {
   "cell_type": "markdown",
   "id": "e87fbe2d-a9c5-4379-8db2-75b6635137d7",
   "metadata": {},
   "source": [
    "4. What is the difference between using a bare except block and specifying a specific exception type?\n",
    "\n",
    "The difference between using a bare except block and specifying a specific exception type is that:\n",
    "\n",
    "A bare except block catches all types of exceptions, whereas specifying a specific exception type allows you to catch and handle only that particular type of exception.\n",
    "Using a specific exception type allows for more targeted and controlled exception handling, while a bare except block should generally be avoided as it can hide errors and make debugging more difficult."
   ]
  },
  {
   "cell_type": "markdown",
   "id": "95e17b55-85b8-46c4-be50-f1179cbc471b",
   "metadata": {},
   "source": [
    "5. Can you have nested try-except blocks in Python? If yes, then give an example.\n",
    "\n",
    "Yes, nested try-except blocks can be used in Python. This means that you can have a try-except block inside another try block.\n",
    "\n",
    "For example\n",
    "\n",
    "try:\n",
    "    # Outer try block\n",
    "    # ...\n",
    "    try:\n",
    "        # Inner try block\n",
    "        # ...\n",
    "    except ExceptionType2:\n",
    "        # Inner except block\n",
    "        # ...\n",
    "except ExceptionType1:\n",
    "    # Outer except block\n",
    "    # ...\n",
    "In this example, if an exception of ExceptionType2 occurs in the inner try block, it will be caught by the inner except block. If an exception of ExceptionType1 occurs in the outer try block or the inner except block, it will be caught by the outer except block."
   ]
  },
  {
   "cell_type": "code",
   "execution_count": 1,
   "id": "5e27f412-5182-49b0-89ee-69298f5f3eec",
   "metadata": {},
   "outputs": [
    {
     "name": "stdout",
     "output_type": "stream",
     "text": [
      "outer try block\n",
      "Inner try block\n"
     ]
    }
   ],
   "source": [
    "try:\n",
    "   print(\"outer try block\")\n",
    "   try:\n",
    "       print(\"Inner try block\")\n",
    "   except ZeroDivisionError:\n",
    "       print(\"Inner except block\")\n",
    "except:\n",
    "   print(\"outer except block\")"
   ]
  },
  {
   "cell_type": "markdown",
   "id": "49a357bf-6230-468e-9aee-7fbf557df88c",
   "metadata": {},
   "source": [
    "6. Can we use multiple exception blocks, if yes then give an example.\n",
    "\n",
    "Yes, you can use multiple except blocks to handle different types of exceptions.\n",
    "\n",
    "For example:"
   ]
  },
  {
   "cell_type": "code",
   "execution_count": 4,
   "id": "df0afac6-4014-4d75-ac25-98c59908131d",
   "metadata": {},
   "outputs": [
    {
     "name": "stdout",
     "output_type": "stream",
     "text": [
      "<class 'TypeError'> can only concatenate str (not \"int\") to str\n",
      "<class 'ValueError'> Integer Item has to be <= 200\n"
     ]
    }
   ],
   "source": [
    "input_list_1 = ['Hello', ' from', 123, 456, ' AskPython']\n",
    "input_list_2 = [123, 456, ' AskPython']\n",
    "\n",
    "def add_list(ip):\n",
    "    # Adds all items of a list\n",
    "    # Will raise ValueError if any integer item > 200\n",
    "    # and will raise TypeError if addition operands are of different types\n",
    "    if isinstance(ip, list):\n",
    "        result = '' if isinstance(ip[0], str) else 0\n",
    "        for item in ip:\n",
    "            if isinstance(item, int) and item > 200:\n",
    "                raise ValueError('Integer Item has to be <= 200')\n",
    "            result = result + item\n",
    "        return result\n",
    "    else:\n",
    "        return None\n",
    "\n",
    "try:\n",
    "    # Will raise TypeError\n",
    "    res = add_list(input_list_1)\n",
    "    print(res)\n",
    "except TypeError as te:\n",
    "    print(type(te), te)\n",
    "except ValueError as ve:\n",
    "    print(type(ve), ve)\n",
    "\n",
    "try:\n",
    "    # Will raise ValueError since 456 > 200\n",
    "    res = add_list(input_list_2)\n",
    "    print(res)\n",
    "except TypeError as te:\n",
    "    print(type(te), te)\n",
    "except ValueError as ve:\n",
    "    print(type(ve), ve)\n"
   ]
  },
  {
   "cell_type": "markdown",
   "id": "dceeecbb-6a40-4348-a101-9e73a5033786",
   "metadata": {},
   "source": [
    "7. Write the reason due to which following errors are raised:\n",
    "a. EOFError\n",
    "b. FloatingPointError\n",
    "c. IndexError\n",
    "d. MemoryError\n",
    "e. OverflowError\n",
    "f. TabError\n",
    "g. ValueError\n",
    "\n",
    "EOFError: This error is raised when there is an attempt to read input beyond the end-of-file (EOF) marker. For example, if you use the input() function to read user input, and the user closes the input stream, an EOFError will be raised.\n",
    "\n",
    "FloatingPointError: This error is raised when a floating-point operation fails to produce a valid result. It can occur in situations such as dividing by zero or performing an invalid mathematical operation.\n",
    "\n",
    "IndexError: This error is raised when an index is out of range for a sequence (e.g., list, tuple, string). It occurs when you try to access an element using an index that is either negative or greater than or equal to the length of the sequence.\n",
    "\n",
    "MemoryError: This error is raised when an operation fails due to insufficient memory. It occurs when the program attempts to allocate more memory than is available.\n",
    "\n",
    "OverflowError: This error is raised when the result of an arithmetic operation exceeds the maximum representable value for a numeric type. It occurs when you try to perform a calculation that exceeds the limits of the data type.\n",
    "\n",
    "TabError: This error is raised when inconsistent use of tabs and spaces is encountered in indentation. It occurs when there are issues with the indentation of the code, such as mixing tabs and spaces in the same block.\n",
    "\n",
    "ValueError: This error is raised when a function receives an argument of the correct data type but with an invalid value. It occurs when an inappropriate value is passed to a function or when a built-in operation or conversion fails due to an invalid value."
   ]
  },
  {
   "cell_type": "markdown",
   "id": "8bca7b21-081a-4da4-a7a8-64a9a22b5995",
   "metadata": {},
   "source": [
    "8. Write code for the following given scenario and add try-exception block to it.\n",
    "a. Program to divide two numbers\n",
    "b. Program to convert a string to an integer\n",
    "c. Program to access an element in a list\n",
    "d. Program to handle a specific exception\n",
    "e. Program to handle any exception"
   ]
  },
  {
   "cell_type": "code",
   "execution_count": 5,
   "id": "1a4c8b31-4bda-4f85-ad5c-e35905e3a619",
   "metadata": {},
   "outputs": [
    {
     "name": "stdin",
     "output_type": "stream",
     "text": [
      "Enter the numerator:  20\n",
      "Enter the denominator:  5\n"
     ]
    },
    {
     "name": "stdout",
     "output_type": "stream",
     "text": [
      "Result: 4.0\n"
     ]
    }
   ],
   "source": [
    "#a. Program to divide two numbers:\n",
    "\n",
    "try:\n",
    "    numerator = int(input(\"Enter the numerator: \"))\n",
    "    denominator = int(input(\"Enter the denominator: \"))\n",
    "    result = numerator / denominator\n",
    "    print(\"Result:\", result)\n",
    "except ZeroDivisionError:\n",
    "    print(\"Error: Division by zero is not allowed.\")\n"
   ]
  },
  {
   "cell_type": "code",
   "execution_count": 7,
   "id": "32193f15-2ab0-4f21-8436-ea5045f6aef9",
   "metadata": {},
   "outputs": [
    {
     "name": "stdin",
     "output_type": "stream",
     "text": [
      "Enter a number:  ABCD\n"
     ]
    },
    {
     "name": "stdout",
     "output_type": "stream",
     "text": [
      "Error: Invalid input. Please enter a valid integer.\n"
     ]
    }
   ],
   "source": [
    "#b. Program to convert a string to an integer:\n",
    "\n",
    "try:\n",
    "    num_str = input(\"Enter a number: \")\n",
    "    num = int(num_str)\n",
    "    print(\"Number:\", num)\n",
    "except ValueError:\n",
    "    print(\"Error: Invalid input. Please enter a valid integer.\")\n"
   ]
  },
  {
   "cell_type": "code",
   "execution_count": 8,
   "id": "aba2fc8e-fd8d-46ac-b35b-43c3aa591150",
   "metadata": {},
   "outputs": [
    {
     "name": "stdin",
     "output_type": "stream",
     "text": [
      "Enter an index:  2\n"
     ]
    },
    {
     "name": "stdout",
     "output_type": "stream",
     "text": [
      "Value: 3\n"
     ]
    }
   ],
   "source": [
    "#c. Program to access an element in a list:\n",
    "\n",
    "try:\n",
    "    my_list = [1, 2, 3]\n",
    "    index = int(input(\"Enter an index: \"))\n",
    "    value = my_list[index]\n",
    "    print(\"Value:\", value)\n",
    "except IndexError:\n",
    "    print(\"Error: Index out of range.\")"
   ]
  },
  {
   "cell_type": "code",
   "execution_count": 9,
   "id": "01c124ac-5a39-4418-9e38-449e811dedf9",
   "metadata": {},
   "outputs": [
    {
     "name": "stdout",
     "output_type": "stream",
     "text": [
      "Index Out of Bound.\n"
     ]
    }
   ],
   "source": [
    "#d. Program to handle a specific exception:\n",
    "\n",
    "try:\n",
    "    even_numbers = [2,4,6,8]\n",
    "    print(even_numbers[5])\n",
    "\n",
    "except ZeroDivisionError:\n",
    "    print(\"Denominator cannot be 0.\")\n",
    "\n",
    "except IndexError:\n",
    "    print(\"Index Out of Bound.\")"
   ]
  },
  {
   "cell_type": "code",
   "execution_count": 10,
   "id": "a000f4e3-afa2-43c2-a0d1-0ef3e7f99731",
   "metadata": {},
   "outputs": [
    {
     "name": "stdout",
     "output_type": "stream",
     "text": [
      "It can be any exception\n"
     ]
    }
   ],
   "source": [
    "#e. Program to handle any exception:\n",
    "\n",
    "try:\n",
    "    even_numbers = [2,4,6,8]\n",
    "    print(even_numbers[5])\n",
    "\n",
    "except Exception as e:\n",
    "    print(\"It can be any exception\")\n",
    "     "
   ]
  },
  {
   "cell_type": "code",
   "execution_count": null,
   "id": "3b746955-ebbd-4488-af08-041a95b74d3f",
   "metadata": {},
   "outputs": [],
   "source": []
  }
 ],
 "metadata": {
  "kernelspec": {
   "display_name": "Python 3 (ipykernel)",
   "language": "python",
   "name": "python3"
  },
  "language_info": {
   "codemirror_mode": {
    "name": "ipython",
    "version": 3
   },
   "file_extension": ".py",
   "mimetype": "text/x-python",
   "name": "python",
   "nbconvert_exporter": "python",
   "pygments_lexer": "ipython3",
   "version": "3.10.6"
  }
 },
 "nbformat": 4,
 "nbformat_minor": 5
}
