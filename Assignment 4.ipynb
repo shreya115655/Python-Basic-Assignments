{
 "cells": [
  {
   "cell_type": "markdown",
   "id": "f001c814-1be4-4901-b7ba-e1ed1b870388",
   "metadata": {},
   "source": [
    "1. What exactly is []?\n",
    "it is an empty list, like x=[]\n",
    "\n",
    "2. In a list of values stored in a variable called spam, how would you assign the value 'hello' as the third value? (Assume [2, 4, 6, 8, 10] are in spam.)"
   ]
  },
  {
   "cell_type": "code",
   "execution_count": 1,
   "id": "605b5111-3164-4259-9f96-fe07b3d6f8b4",
   "metadata": {},
   "outputs": [
    {
     "name": "stdout",
     "output_type": "stream",
     "text": [
      "[2, 4, 'hello', 8, 10]\n"
     ]
    }
   ],
   "source": [
    "spam = [2, 4, 6, 8, 10]\n",
    "spam[2] = 'hello'\n",
    "print(spam)"
   ]
  },
  {
   "cell_type": "markdown",
   "id": "199cf773-d3e7-450e-9c09-12c6c692181f",
   "metadata": {},
   "source": [
    "Let's pretend the spam includes the list ['a', 'b', 'c', 'd'] for the next three queries.\n",
    "3. What is the value of spam[int(int('3' * 2) / 11)]?\n"
   ]
  },
  {
   "cell_type": "code",
   "execution_count": 2,
   "id": "e7db14e7-4077-4c5f-925b-732a8185d79f",
   "metadata": {},
   "outputs": [
    {
     "data": {
      "text/plain": [
       "'d'"
      ]
     },
     "execution_count": 2,
     "metadata": {},
     "output_type": "execute_result"
    }
   ],
   "source": [
    "spam = ['a', 'b','c','d']\n",
    "spam[int(int('3' * 2) / 11)]#spam[int(33/11)] = spam[3]"
   ]
  },
  {
   "cell_type": "markdown",
   "id": "551daf85-27f4-432c-9779-f22b478847cf",
   "metadata": {},
   "source": [
    "Let's pretend the spam includes the list ['a', 'b', 'c', 'd'] for the next three queries.\n",
    "4. What is the value of spam[-1]?"
   ]
  },
  {
   "cell_type": "code",
   "execution_count": 3,
   "id": "f6fc9481-193e-4e7f-a7cd-249454efcf36",
   "metadata": {},
   "outputs": [
    {
     "data": {
      "text/plain": [
       "'d'"
      ]
     },
     "execution_count": 3,
     "metadata": {},
     "output_type": "execute_result"
    }
   ],
   "source": [
    "spam = ['a', 'b','c','d']\n",
    "spam[-1]#\"d\"is present at first negative index"
   ]
  },
  {
   "cell_type": "markdown",
   "id": "d5632a90-ec34-4087-b363-d6b95efa0f09",
   "metadata": {},
   "source": [
    "Let's pretend the spam includes the list ['a', 'b', 'c', 'd'] for the next three queries.\n",
    "5. What is the value of spam[:2]?\n"
   ]
  },
  {
   "cell_type": "code",
   "execution_count": 4,
   "id": "5b2e21d5-6344-4f05-807c-c5df302eccc7",
   "metadata": {},
   "outputs": [
    {
     "data": {
      "text/plain": [
       "['a', 'b']"
      ]
     },
     "execution_count": 4,
     "metadata": {},
     "output_type": "execute_result"
    }
   ],
   "source": [
    "spam = ['a', 'b','c','d']\n",
    "spam[:2]#will print upto positive index 2 (excluding it)"
   ]
  },
  {
   "cell_type": "markdown",
   "id": "fe91b342-c378-41c4-aef2-ddb661fe93be",
   "metadata": {},
   "source": [
    "Let's pretend bacon has the list [3.14, 'cat,' 11, 'cat,' True] for the next three questions.\n",
    "6. What is the value of bacon.index('cat')?\n"
   ]
  },
  {
   "cell_type": "code",
   "execution_count": 5,
   "id": "cced1395-b53b-4539-9835-3a4226a58ecf",
   "metadata": {},
   "outputs": [
    {
     "data": {
      "text/plain": [
       "1"
      ]
     },
     "execution_count": 5,
     "metadata": {},
     "output_type": "execute_result"
    }
   ],
   "source": [
    "bacon = [3.14, 'cat', 11, 'cat', True]\n",
    "bacon.index('cat')#returns the index no of 'cat'"
   ]
  },
  {
   "cell_type": "code",
   "execution_count": null,
   "id": "6b42c1f6-c3a6-48c5-ad38-1be7918fe281",
   "metadata": {},
   "outputs": [],
   "source": [
    "Let's pretend bacon has the list [3.14, 'cat,' 11, 'cat,' True] for the next three questions.\n",
    "7. How does bacon.append(99) change the look of the list value in bacon?"
   ]
  },
  {
   "cell_type": "code",
   "execution_count": 7,
   "id": "a63992b4-d467-4376-a5fe-2a2976702cc9",
   "metadata": {},
   "outputs": [
    {
     "name": "stdout",
     "output_type": "stream",
     "text": [
      "[3.14, 'cat', 11, 'cat', True, 99]\n"
     ]
    }
   ],
   "source": [
    "bacon = [3.14, 'cat', 11, 'cat', True]\n",
    "bacon.append(99)#append adds the item at the end\n",
    "print(bacon)"
   ]
  },
  {
   "cell_type": "markdown",
   "id": "dd2f9b88-00b3-402c-9d81-a58c667bd616",
   "metadata": {},
   "source": [
    "Let's pretend bacon has the list [3.14, 'cat,' 11, 'cat,' True] for the next three questions.\n",
    "8. How does bacon.remove('cat') change the look of the list in bacon?"
   ]
  },
  {
   "cell_type": "code",
   "execution_count": 8,
   "id": "001ff6ae-7379-4b42-acbf-6e2a04b866ea",
   "metadata": {},
   "outputs": [
    {
     "name": "stdout",
     "output_type": "stream",
     "text": [
      "[3.14, 11, 'cat', True]\n"
     ]
    }
   ],
   "source": [
    "bacon = [3.14, 'cat', 11, 'cat', True]\n",
    "bacon.remove('cat')#removes the 'cat'(first occurrence)\n",
    "print(bacon)"
   ]
  },
  {
   "cell_type": "markdown",
   "id": "b461dce5-0664-4ab5-b8a3-2df14aafef04",
   "metadata": {},
   "source": [
    "9. What are the list concatenation and list replication operators?\n",
    "concatenation operator:  + operator joins the two list\n",
    "replication operator:  * operator replicates the elements in the list.\n",
    "\n",
    "10. What is difference between the list methods append() and insert()?\n",
    "append() adds an item to the end of a list, whereas . insert() inserts and item in a specified position in the list.\n"
   ]
  },
  {
   "cell_type": "code",
   "execution_count": 11,
   "id": "504f3bc9-c34e-4237-9faf-9ba224ca09f2",
   "metadata": {},
   "outputs": [
    {
     "name": "stdout",
     "output_type": "stream",
     "text": [
      "[3.14, 'cat', 11, 'cat', True, 99]\n"
     ]
    }
   ],
   "source": [
    "bacon = [3.14, 'cat', 11, 'cat', True]\n",
    "bacon.append(99)#append adds the item at the end\n",
    "print(bacon)\n"
   ]
  },
  {
   "cell_type": "code",
   "execution_count": 14,
   "id": "cf21a107-fb00-4f2c-bb2d-12706035ea35",
   "metadata": {},
   "outputs": [
    {
     "name": "stdout",
     "output_type": "stream",
     "text": [
      "[3.14, 'cat', 'dog', 11, 'cat', True]\n"
     ]
    }
   ],
   "source": [
    "bacon = [3.14, 'cat', 11, 'cat', True]\n",
    "bacon.insert(2,\"dog\")#\"dog\" is inserted in index 2\n",
    "print(bacon)"
   ]
  },
  {
   "cell_type": "markdown",
   "id": "552db8bc-3db0-4986-b27a-87152a721471",
   "metadata": {},
   "source": [
    "11. What are the two methods for removing items from a list?\n",
    "remove and pop"
   ]
  },
  {
   "cell_type": "code",
   "execution_count": 16,
   "id": "8d4de16d-08ba-4a4f-a35d-b6296a9d1092",
   "metadata": {},
   "outputs": [
    {
     "name": "stdout",
     "output_type": "stream",
     "text": [
      "[3.14, 11, 'cat', True]\n"
     ]
    }
   ],
   "source": [
    "#remove(item) - removes first occurence of an item\n",
    "bacon = [3.14, 'cat', 11, 'cat', True]\n",
    "bacon.remove('cat')\n",
    "print(bacon)"
   ]
  },
  {
   "cell_type": "code",
   "execution_count": 17,
   "id": "948b8af7-f7fe-4f32-a751-ac93e42f0eb9",
   "metadata": {},
   "outputs": [
    {
     "name": "stdout",
     "output_type": "stream",
     "text": [
      "[3.14, 'cat', 11, 'cat']\n"
     ]
    }
   ],
   "source": [
    "#pop() - Removes an item from last index\n",
    "bacon = [3.14, 'cat', 11, 'cat', True]\n",
    "bacon.pop()\n",
    "print(bacon)\n",
    "     "
   ]
  },
  {
   "cell_type": "markdown",
   "id": "41002833-4317-4e3d-8373-228355f4f4f9",
   "metadata": {},
   "source": [
    "12. Describe how list values and string values are identical.\n",
    "\n",
    "Ans: 1. Both have indexes \n",
    "2.Both lists and strings can be passed to len() function.\n",
    "3.Both Can be concatenated or replicated\n",
    "4. Both can be sliced\n",
    "\n",
    "13. What's the difference between tuples and lists?\n",
    "Ans:\n",
    "List are mutable,Tuples are immutable\n",
    "lists use the square brackets [], Tuples are written using parentheses()\n",
    "\n",
    "14. How do you type a tuple value that only contains the integer 42?\n"
   ]
  },
  {
   "cell_type": "code",
   "execution_count": 18,
   "id": "e07ef627-6813-40bf-a01c-f5246bbb0024",
   "metadata": {},
   "outputs": [
    {
     "name": "stdout",
     "output_type": "stream",
     "text": [
      "42\n"
     ]
    }
   ],
   "source": [
    "tuple = (42)\n",
    "print(tuple)"
   ]
  },
  {
   "cell_type": "markdown",
   "id": "3c5834fe-5076-4764-bf5d-e246405dc5dc",
   "metadata": {},
   "source": [
    "15. How do you get a list value's tuple form? How do you get a tuple value's list form?\n",
    "my_list = [1, 2, 3]\n",
    "my_tuple = tuple(my_list)\n",
    "print(my_tuple)\n",
    "\n",
    "(1, 2, 3)"
   ]
  },
  {
   "cell_type": "code",
   "execution_count": 24,
   "id": "d6181013-11a1-4339-a0fa-ffe756e9c7d4",
   "metadata": {},
   "outputs": [
    {
     "name": "stdout",
     "output_type": "stream",
     "text": [
      "[3, 4]\n"
     ]
    }
   ],
   "source": [
    "t1 = (3,4)\n",
    "t = list(t1)\n",
    "print(t)"
   ]
  },
  {
   "cell_type": "markdown",
   "id": "b404c5de-2a0a-47f8-a8e4-9913a476ff71",
   "metadata": {},
   "source": [
    "16. Variables that \"contain\" list values are not necessarily lists themselves. Instead, what do they contain?\n",
    "\n",
    "Variables will contain references to list values.\n",
    "\n",
    "17. How do you distinguish between copy.copy() and copy.deepcopy()?\n",
    "A shallow copy will create a new compound object and then will add a reference to the object found in the original. A deep copy will create a new compound object and then add a reference to the object found in the original"
   ]
  }
 ],
 "metadata": {
  "kernelspec": {
   "display_name": "Python 3 (ipykernel)",
   "language": "python",
   "name": "python3"
  },
  "language_info": {
   "codemirror_mode": {
    "name": "ipython",
    "version": 3
   },
   "file_extension": ".py",
   "mimetype": "text/x-python",
   "name": "python",
   "nbconvert_exporter": "python",
   "pygments_lexer": "ipython3",
   "version": "3.10.6"
  }
 },
 "nbformat": 4,
 "nbformat_minor": 5
}
