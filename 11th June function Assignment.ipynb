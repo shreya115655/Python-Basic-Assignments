{
 "cells": [
  {
   "cell_type": "markdown",
   "id": "fa159e46-745e-4e9c-b54d-0b0c0495137e",
   "metadata": {},
   "source": [
    "1. What is a lambda function in Python, and how does it differ from a regular function?\n",
    "\n",
    "In Python, a lambda function is a small anonymous function that can be defined without a name. It is also known as an anonymous function because it does not require a def statement like a regular function. Instead, it is defined using the lambda keyword, followed by the function's parameters, a colon, and the expression to be evaluated.Example:\n"
   ]
  },
  {
   "cell_type": "code",
   "execution_count": 1,
   "id": "a45e4dd5-86ff-40f2-bdfb-6a13c6df9df1",
   "metadata": {},
   "outputs": [
    {
     "name": "stdout",
     "output_type": "stream",
     "text": [
      "25\n"
     ]
    }
   ],
   "source": [
    "square_lambda = lambda x: x ** 2\n",
    "print(square_lambda(5))"
   ]
  },
  {
   "cell_type": "markdown",
   "id": "8583b0f5-88c4-4d09-b8f8-b5867883de12",
   "metadata": {},
   "source": [
    "The key difference between a lambda function and a regular function is that lambda functions are limited in functionality and designed to be simple and concise. They are typically used for one-line functions where a full function definition is unnecessary."
   ]
  },
  {
   "cell_type": "markdown",
   "id": "27377264-8094-4a2e-ac29-6b14709ef534",
   "metadata": {},
   "source": [
    "2. Can a lambda function in Python have multiple arguments? If yes, how can you define and use\n",
    "them?\n",
    "\n",
    "Yes, a lambda function in Python can have multiple arguments. To define multiple arguments in a lambda function, we separate them with commas, just like in a regular function. Here's an example of a lambda function with multiple arguments:\n",
    "\n",
    "multiply = lambda x, y: x * y\n",
    "In this example, the lambda function takes two arguments, x and y, and returns their product.\n",
    "\n",
    "To use the lambda function with multiple arguments, we simply call it and provide the values for each argument. For instance:\n",
    "\n",
    "result = multiply(3, 4)\n",
    "print(result)"
   ]
  },
  {
   "cell_type": "code",
   "execution_count": 15,
   "id": "f3d4de51-1bfb-455d-9f1b-f9497dc66d80",
   "metadata": {},
   "outputs": [
    {
     "name": "stdout",
     "output_type": "stream",
     "text": [
      "20\n"
     ]
    }
   ],
   "source": [
    "multiply = lambda x, y: x * y\n",
    "\n",
    "result = multiply(4, 5)\n",
    "print(result)"
   ]
  },
  {
   "cell_type": "markdown",
   "id": "67e4b66e-293f-44c5-9c7a-416c079fdc58",
   "metadata": {},
   "source": [
    "3. How are lambda functions typically used in Python? Provide an example use case.\n",
    "\n",
    "Lambda functions are typically used in Python when a small, one-line function is needed, especially as an argument to higher-order functions like map(), filter(), or reduce().\n",
    "They can help in making code more concise and readable. Some common use cases for lambda functions include:\n",
    "\n",
    "1.Transforming elements in a list: Lambda functions can be used with map() to apply a transformation to each element of a list.\n",
    "2.Filtering elements from a list: Lambda functions can be used with filter() to selectively filter elements from a list based on a condition.\n",
    "3.Sorting custom data structures: Lambda functions can be used with sorted() to define custom sorting criteria.\n",
    "Here's an example of using a lambda function to transform a list of numbers:"
   ]
  },
  {
   "cell_type": "code",
   "execution_count": 16,
   "id": "3fcd1909-4b1a-4922-a15e-9fa7b9525743",
   "metadata": {},
   "outputs": [
    {
     "name": "stdout",
     "output_type": "stream",
     "text": [
      "[1, 4, 9, 16]\n"
     ]
    }
   ],
   "source": [
    "numbers = [1, 2, 3, 4]\n",
    "squared_numbers = list(map(lambda x: x ** 2, numbers))\n",
    "print(squared_numbers)"
   ]
  },
  {
   "cell_type": "markdown",
   "id": "8cc32d6b-954f-4187-8f0e-f6c75cc71414",
   "metadata": {},
   "source": [
    "4. What are the advantages and limitations of lambda functions compared to regular functions in Python?\n",
    "\n",
    "Advantages of lambda functions:\n",
    "\n",
    "1.Conciseness: Lambda functions allow you to write simple, one-line functions without the need for a full function definition.\n",
    "2.Readability: Lambda functions are often used in conjunction with higher-order functions, making the code more readable and compact.\n",
    "3.Avoiding clutter: Lambda functions eliminate the need to define a separate function for a simple operation that is only used once.\n",
    "\n",
    "Limitations of lambda functions:\n",
    "\n",
    "1.Limited functionality: Lambda functions are restricted to a single expression and cannot contain statements or multiple lines of code.\n",
    "2.Lack of documentation: Since lambda functions are anonymous, they do not have a name or docstring, making it harder to understand their purpose without additional comments.\n",
    "3.Reduced reusability: Lambda functions are best suited for small, specific tasks and may not be reusable across multiple parts of a program.\n"
   ]
  },
  {
   "cell_type": "markdown",
   "id": "f976b33a-34b7-4ed6-b8e3-e8bb111ceab7",
   "metadata": {},
   "source": [
    "5. Are lambda functions in Python able to access variables defined outside of their own scope?\n",
    "Explain with an example.\n",
    "\n",
    "Yes, lambda functions in Python can access variables defined outside of their own scope. This is possible through the concept of closures.\n",
    "\n",
    "A closure is a function object that remembers values in the enclosing lexical scope even if they are not present in memory.\n",
    "Here's an example to illustrate how a lambda function can access variables from its surrounding scope:"
   ]
  },
  {
   "cell_type": "code",
   "execution_count": 18,
   "id": "dae0d019-9bf6-48db-8aac-beca3226b824",
   "metadata": {},
   "outputs": [
    {
     "name": "stdout",
     "output_type": "stream",
     "text": [
      "15\n"
     ]
    }
   ],
   "source": [
    "def outer_funct():\n",
    "    x = 10\n",
    "    return lambda y: x + y\n",
    "\n",
    "lambda_func = outer_funct()\n",
    "result = lambda_func(5)\n",
    "print(result) #n this example, the lambda function lambda_func is defined within the outer_function(). It accesses the variable x from the enclosing scope and adds it to the argument y passed to the lambda function."
   ]
  },
  {
   "cell_type": "markdown",
   "id": "e1174e5b-5aa1-44be-b6a0-4772bec91157",
   "metadata": {},
   "source": [
    "6. Write a lambda function to calculate the square of a given number.\n"
   ]
  },
  {
   "cell_type": "code",
   "execution_count": 19,
   "id": "66e25158-7bd1-456e-88f6-251410c33134",
   "metadata": {},
   "outputs": [
    {
     "name": "stdout",
     "output_type": "stream",
     "text": [
      "36\n"
     ]
    }
   ],
   "source": [
    "square = lambda x: x ** 2\n",
    "\n",
    "result = square(6)\n",
    "print(result)"
   ]
  },
  {
   "cell_type": "markdown",
   "id": "9ed6d600-b803-402e-89ba-044569abde52",
   "metadata": {},
   "source": [
    "7. Create a lambda function to find the maximum value in a list of integers."
   ]
  },
  {
   "cell_type": "code",
   "execution_count": 22,
   "id": "aaaa5423-ee57-49f5-9968-19a69a061425",
   "metadata": {},
   "outputs": [
    {
     "name": "stdout",
     "output_type": "stream",
     "text": [
      "9\n"
     ]
    }
   ],
   "source": [
    "numbers = [2, 5, 9, 5, 1]\n",
    "maximum_value = lambda lst: max(lst)\n",
    "\n",
    "result = maximum_value(numbers)\n",
    "print(result) "
   ]
  },
  {
   "cell_type": "markdown",
   "id": "8279dc97-50fd-41ff-af32-b0263220b9ba",
   "metadata": {},
   "source": [
    "8. Implement a lambda function to filter out all the even numbers from a list of integers.\n"
   ]
  },
  {
   "cell_type": "code",
   "execution_count": 23,
   "id": "677bd58d-4c52-42f6-b662-be22d25cf8d3",
   "metadata": {},
   "outputs": [
    {
     "name": "stdout",
     "output_type": "stream",
     "text": [
      "[2, 4, 6, 8, 10, 12, 14]\n"
     ]
    }
   ],
   "source": [
    "numbers = [1, 2, 3, 4, 5, 6, 7, 8, 9, 10, 11, 12, 13, 14]\n",
    "even_numbers = list(filter(lambda x: x % 2 == 0, numbers))\n",
    "\n",
    "print(even_numbers)"
   ]
  },
  {
   "cell_type": "markdown",
   "id": "fac57d9e-54ba-4450-89f4-3301d9e0edad",
   "metadata": {},
   "source": [
    "9. Write a lambda function to sort a list of strings in ascending order based on the length of each string."
   ]
  },
  {
   "cell_type": "code",
   "execution_count": 24,
   "id": "414a38f3-466a-4105-8c26-af3f1ab47137",
   "metadata": {},
   "outputs": [
    {
     "name": "stdout",
     "output_type": "stream",
     "text": [
      "['apple', 'banana', 'cherry', 'grapes', 'cucumber']\n"
     ]
    }
   ],
   "source": [
    "string = [\"cucumber\", \"banana\", \"cherry\", \"apple\", \"grapes\"]\n",
    "sorted_string = sorted(string, key=lambda x: len(x))\n",
    "\n",
    "print(sorted_string)"
   ]
  },
  {
   "cell_type": "markdown",
   "id": "cdb8a569-ef23-4f6f-9da0-d1deea181667",
   "metadata": {},
   "source": [
    "10. Create a lambda function that takes two lists as input and returns a new list containing the common elements between the two lists"
   ]
  },
  {
   "cell_type": "code",
   "execution_count": 25,
   "id": "70a331d6-1627-4ba9-8b69-f7809e34bc3c",
   "metadata": {},
   "outputs": [
    {
     "name": "stdout",
     "output_type": "stream",
     "text": [
      "[4, 5]\n"
     ]
    }
   ],
   "source": [
    "l1 = [1, 2, 3, 4, 5]\n",
    "l2 = [4, 5, 6, 7, 8]\n",
    "common_elements = list(filter(lambda x: x in l1, l2))\n",
    "\n",
    "print(common_elements)"
   ]
  },
  {
   "cell_type": "markdown",
   "id": "9007f2a8-7e50-4977-929a-f2d92dfa1031",
   "metadata": {},
   "source": [
    "11. Write a recursive function to calculate the factorial of a given positive integer."
   ]
  },
  {
   "cell_type": "code",
   "execution_count": 27,
   "id": "b3021950-3066-4467-8113-b971392d0f4a",
   "metadata": {},
   "outputs": [
    {
     "name": "stdout",
     "output_type": "stream",
     "text": [
      "24\n"
     ]
    }
   ],
   "source": [
    "def factorial(n):\n",
    "    if n == 0:\n",
    "        return 1\n",
    "    else:\n",
    "        return n * factorial(n - 1)\n",
    "\n",
    "result = factorial(4)\n",
    "print(result)\n",
    "     "
   ]
  },
  {
   "cell_type": "markdown",
   "id": "e7ac72d4-1426-43fe-b578-52f371c257f0",
   "metadata": {},
   "source": [
    "12. Implement a recursive function to compute the nth Fibonacci number."
   ]
  },
  {
   "cell_type": "code",
   "execution_count": 11,
   "id": "499c51f7-37ee-4d74-9502-5e324e4c1007",
   "metadata": {},
   "outputs": [
    {
     "name": "stdout",
     "output_type": "stream",
     "text": [
      "8\n"
     ]
    }
   ],
   "source": [
    "def fibonacci(n):\n",
    "    if n <= 1:\n",
    "        return n\n",
    "    else:\n",
    "        return fibonacci(n - 1) + fibonacci(n - 2)\n",
    "\n",
    "result = fibonacci(6)\n",
    "print(result)"
   ]
  },
  {
   "cell_type": "markdown",
   "id": "3059c9ca-409d-4329-86d2-0478f8afd93d",
   "metadata": {},
   "source": [
    "13. Create a recursive function to find the sum of all the elements in a given list."
   ]
  },
  {
   "cell_type": "code",
   "execution_count": 12,
   "id": "38f265c4-95e2-46d4-957e-ae8276cf1b34",
   "metadata": {},
   "outputs": [
    {
     "name": "stdout",
     "output_type": "stream",
     "text": [
      "15\n"
     ]
    }
   ],
   "source": [
    "def sum_list(lst):\n",
    "    if not lst:\n",
    "        return 0\n",
    "    else:\n",
    "        return lst[0] + sum_list(lst[1:])\n",
    "\n",
    "numbers = [1, 2, 3, 4, 5]\n",
    "result = sum_list(numbers)\n",
    "print(result)\n",
    "     "
   ]
  },
  {
   "cell_type": "markdown",
   "id": "b49bbab3-d148-432a-a465-dffa9b3f52fb",
   "metadata": {},
   "source": [
    "14. Write a recursive function to determine whether a given string is a palindrome."
   ]
  },
  {
   "cell_type": "code",
   "execution_count": 28,
   "id": "622c7e9b-9db1-49ff-ae1c-fd490b86922f",
   "metadata": {},
   "outputs": [
    {
     "name": "stdout",
     "output_type": "stream",
     "text": [
      "True\n",
      "False\n"
     ]
    }
   ],
   "source": [
    "def is_a_palindrome(string):\n",
    "    if len(string) <= 1:\n",
    "        return True\n",
    "    else:\n",
    "        if string[0] == string[-1]:\n",
    "            return is_a_palindrome(string[1:-1])\n",
    "        else:\n",
    "            return False\n",
    "\n",
    "string1 = \"radar\"\n",
    "string2 = \"python\"\n",
    "print(is_a_palindrome(string1))\n",
    "print(is_a_palindrome(string2))"
   ]
  },
  {
   "cell_type": "markdown",
   "id": "7d284772-bfc1-40b2-b3f5-dc5d6363014f",
   "metadata": {},
   "source": [
    "15. Implement a recursive function to find the greatest common divisor (GCD) of two positive integers."
   ]
  },
  {
   "cell_type": "code",
   "execution_count": 29,
   "id": "abdc6c8c-de2f-4b7c-86c7-f512cfb28c72",
   "metadata": {},
   "outputs": [
    {
     "name": "stdout",
     "output_type": "stream",
     "text": [
      "6\n"
     ]
    }
   ],
   "source": [
    "def gcd(a, b):\n",
    "    if b == 0:\n",
    "        return a\n",
    "    else:\n",
    "        return gcd(b, a % b)\n",
    "\n",
    "result = gcd(42, 18)\n",
    "print(result)"
   ]
  },
  {
   "cell_type": "code",
   "execution_count": null,
   "id": "4b1ea5f3-ffb8-4828-be1d-ef8bee76c6e9",
   "metadata": {},
   "outputs": [],
   "source": []
  }
 ],
 "metadata": {
  "kernelspec": {
   "display_name": "Python 3 (ipykernel)",
   "language": "python",
   "name": "python3"
  },
  "language_info": {
   "codemirror_mode": {
    "name": "ipython",
    "version": 3
   },
   "file_extension": ".py",
   "mimetype": "text/x-python",
   "name": "python",
   "nbconvert_exporter": "python",
   "pygments_lexer": "ipython3",
   "version": "3.10.6"
  }
 },
 "nbformat": 4,
 "nbformat_minor": 5
}
